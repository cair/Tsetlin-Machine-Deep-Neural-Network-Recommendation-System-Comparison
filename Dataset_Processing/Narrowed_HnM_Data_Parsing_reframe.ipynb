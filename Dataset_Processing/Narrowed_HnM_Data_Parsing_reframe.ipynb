{
 "cells": [
  {
   "cell_type": "code",
   "execution_count": 79,
   "metadata": {
    "pycharm": {
     "name": "#%%\n"
    }
   },
   "outputs": [],
   "source": [
    "import numpy\n",
    "import numpy as np\n",
    "import pandas as pd\n",
    "import os\n",
    "\n",
    "FOLDER_NAME = \"HnM\"\n",
    "FILE_NAME = \"transactions_train.csv\"\n",
    "SAVE_FOLDER = 'Narrowed_HnM'\n",
    "SAVE_LOCATION = f'{FOLDER_NAME}/{SAVE_FOLDER}/{FILE_NAME.split(\".\")[0]}'\n",
    "if not os.path.isdir(f\"{FOLDER_NAME}/{SAVE_FOLDER}\"):\n",
    "    os.mkdir(f'{FOLDER_NAME}/{SAVE_FOLDER}')\n",
    "TOP_N = 0 # Positive Integer for top n items, 0 for hand-picked values\n",
    "Y_VALUE_PERIOD_DAYS = 30"
   ]
  },
  {
   "cell_type": "code",
   "execution_count": 2,
   "metadata": {
    "pycharm": {
     "name": "#%%\n"
    }
   },
   "outputs": [],
   "source": [
    "df = pd.read_csv(f\"{FOLDER_NAME}/{FILE_NAME}\", dtype={\"article_id\": \"str\"})"
   ]
  },
  {
   "cell_type": "code",
   "execution_count": 3,
   "outputs": [
    {
     "data": {
      "text/plain": "        t_dat                                        customer_id  article_id  \\\n0  2018-09-20  000058a12d5b43e67d225668fa1f8d618c13dc232df0ca...  0663713001   \n1  2018-09-20  000058a12d5b43e67d225668fa1f8d618c13dc232df0ca...  0541518023   \n2  2018-09-20  00007d2de826758b65a93dd24ce629ed66842531df6699...  0505221004   \n3  2018-09-20  00007d2de826758b65a93dd24ce629ed66842531df6699...  0685687003   \n4  2018-09-20  00007d2de826758b65a93dd24ce629ed66842531df6699...  0685687004   \n\n      price  sales_channel_id  \n0  0.050831                 2  \n1  0.030492                 2  \n2  0.015237                 2  \n3  0.016932                 2  \n4  0.016932                 2  ",
      "text/html": "<div>\n<style scoped>\n    .dataframe tbody tr th:only-of-type {\n        vertical-align: middle;\n    }\n\n    .dataframe tbody tr th {\n        vertical-align: top;\n    }\n\n    .dataframe thead th {\n        text-align: right;\n    }\n</style>\n<table border=\"1\" class=\"dataframe\">\n  <thead>\n    <tr style=\"text-align: right;\">\n      <th></th>\n      <th>t_dat</th>\n      <th>customer_id</th>\n      <th>article_id</th>\n      <th>price</th>\n      <th>sales_channel_id</th>\n    </tr>\n  </thead>\n  <tbody>\n    <tr>\n      <th>0</th>\n      <td>2018-09-20</td>\n      <td>000058a12d5b43e67d225668fa1f8d618c13dc232df0ca...</td>\n      <td>0663713001</td>\n      <td>0.050831</td>\n      <td>2</td>\n    </tr>\n    <tr>\n      <th>1</th>\n      <td>2018-09-20</td>\n      <td>000058a12d5b43e67d225668fa1f8d618c13dc232df0ca...</td>\n      <td>0541518023</td>\n      <td>0.030492</td>\n      <td>2</td>\n    </tr>\n    <tr>\n      <th>2</th>\n      <td>2018-09-20</td>\n      <td>00007d2de826758b65a93dd24ce629ed66842531df6699...</td>\n      <td>0505221004</td>\n      <td>0.015237</td>\n      <td>2</td>\n    </tr>\n    <tr>\n      <th>3</th>\n      <td>2018-09-20</td>\n      <td>00007d2de826758b65a93dd24ce629ed66842531df6699...</td>\n      <td>0685687003</td>\n      <td>0.016932</td>\n      <td>2</td>\n    </tr>\n    <tr>\n      <th>4</th>\n      <td>2018-09-20</td>\n      <td>00007d2de826758b65a93dd24ce629ed66842531df6699...</td>\n      <td>0685687004</td>\n      <td>0.016932</td>\n      <td>2</td>\n    </tr>\n  </tbody>\n</table>\n</div>"
     },
     "execution_count": 3,
     "metadata": {},
     "output_type": "execute_result"
    }
   ],
   "source": [
    "df.head()"
   ],
   "metadata": {
    "collapsed": false,
    "pycharm": {
     "name": "#%%\n"
    }
   }
  },
  {
   "cell_type": "code",
   "execution_count": 64,
   "metadata": {
    "pycharm": {
     "name": "#%%\n"
    }
   },
   "outputs": [
    {
     "data": {
      "text/plain": "                                              customer_id  \\\n0       00000dbacae5abe5e23885899a1fa44253a17956c6d1c3...   \n1       000058a12d5b43e67d225668fa1f8d618c13dc232df0ca...   \n2       0000757967448a6cb83efb3ea7a3fb9d418ac7adf2379d...   \n3       00009d946eec3ea54add5ba56d5210ea898def4b46c685...   \n4       0000b2f1829e23b24feec422ef13df3ccedaedc85368e6...   \n...                                                   ...   \n245940  fffd870c6324ad3bda24e4d6aeae221c199479086bfdfd...   \n245941  fffef3b6b73545df065b521e19f64bf6fe93bfd450ab20...   \n245942  ffff12aa623c69eae8959d673f1f12ad0194ad760d77fd...   \n245943  ffffbbf78b6eaac697a8a5dfbfd2bfa8113ee5b403e474...   \n245944  ffffcf35913a0bee60e8741cb2b4e78b8a98ee5ff2e6a1...   \n\n                                               article_id  \\\n0                                            [0568601043]   \n1                                            [0794321007]   \n2                                [0719530003, 0448509014]   \n3       [0562245099, 0516859008, 0921226007, 088965200...   \n4        [0706016038, 0914441005, 0706016015, 0778476005]   \n...                                                   ...   \n245940                           [0750423010, 0761269001]   \n245941  [0934054002, 0834906012, 0786187002, 086507600...   \n245942                           [0871664001, 0869706005]   \n245943  [0713997002, 0720125039, 0740922009, 079158700...   \n245944   [0689365050, 0884081001, 0794819001, 0762846027]   \n\n                                   days_since_transaction  \n0                                                  [17.0]  \n1                                                   [7.0]  \n2                                              [8.0, 8.0]  \n3                    [23.0, 23.0, 23.0, 23.0, 23.0, 23.0]  \n4                                [24.0, 24.0, 24.0, 24.0]  \n...                                                   ...  \n245940                                         [6.0, 6.0]  \n245941  [29.0, 24.0, 24.0, 24.0, 24.0, 13.0, 13.0, 13....  \n245942                                       [29.0, 29.0]  \n245943               [16.0, 16.0, 16.0, 16.0, 16.0, 16.0]  \n245944                           [14.0, 14.0, 14.0, 13.0]  \n\n[245945 rows x 3 columns]",
      "text/html": "<div>\n<style scoped>\n    .dataframe tbody tr th:only-of-type {\n        vertical-align: middle;\n    }\n\n    .dataframe tbody tr th {\n        vertical-align: top;\n    }\n\n    .dataframe thead th {\n        text-align: right;\n    }\n</style>\n<table border=\"1\" class=\"dataframe\">\n  <thead>\n    <tr style=\"text-align: right;\">\n      <th></th>\n      <th>customer_id</th>\n      <th>article_id</th>\n      <th>days_since_transaction</th>\n    </tr>\n  </thead>\n  <tbody>\n    <tr>\n      <th>0</th>\n      <td>00000dbacae5abe5e23885899a1fa44253a17956c6d1c3...</td>\n      <td>[0568601043]</td>\n      <td>[17.0]</td>\n    </tr>\n    <tr>\n      <th>1</th>\n      <td>000058a12d5b43e67d225668fa1f8d618c13dc232df0ca...</td>\n      <td>[0794321007]</td>\n      <td>[7.0]</td>\n    </tr>\n    <tr>\n      <th>2</th>\n      <td>0000757967448a6cb83efb3ea7a3fb9d418ac7adf2379d...</td>\n      <td>[0719530003, 0448509014]</td>\n      <td>[8.0, 8.0]</td>\n    </tr>\n    <tr>\n      <th>3</th>\n      <td>00009d946eec3ea54add5ba56d5210ea898def4b46c685...</td>\n      <td>[0562245099, 0516859008, 0921226007, 088965200...</td>\n      <td>[23.0, 23.0, 23.0, 23.0, 23.0, 23.0]</td>\n    </tr>\n    <tr>\n      <th>4</th>\n      <td>0000b2f1829e23b24feec422ef13df3ccedaedc85368e6...</td>\n      <td>[0706016038, 0914441005, 0706016015, 0778476005]</td>\n      <td>[24.0, 24.0, 24.0, 24.0]</td>\n    </tr>\n    <tr>\n      <th>...</th>\n      <td>...</td>\n      <td>...</td>\n      <td>...</td>\n    </tr>\n    <tr>\n      <th>245940</th>\n      <td>fffd870c6324ad3bda24e4d6aeae221c199479086bfdfd...</td>\n      <td>[0750423010, 0761269001]</td>\n      <td>[6.0, 6.0]</td>\n    </tr>\n    <tr>\n      <th>245941</th>\n      <td>fffef3b6b73545df065b521e19f64bf6fe93bfd450ab20...</td>\n      <td>[0934054002, 0834906012, 0786187002, 086507600...</td>\n      <td>[29.0, 24.0, 24.0, 24.0, 24.0, 13.0, 13.0, 13....</td>\n    </tr>\n    <tr>\n      <th>245942</th>\n      <td>ffff12aa623c69eae8959d673f1f12ad0194ad760d77fd...</td>\n      <td>[0871664001, 0869706005]</td>\n      <td>[29.0, 29.0]</td>\n    </tr>\n    <tr>\n      <th>245943</th>\n      <td>ffffbbf78b6eaac697a8a5dfbfd2bfa8113ee5b403e474...</td>\n      <td>[0713997002, 0720125039, 0740922009, 079158700...</td>\n      <td>[16.0, 16.0, 16.0, 16.0, 16.0, 16.0]</td>\n    </tr>\n    <tr>\n      <th>245944</th>\n      <td>ffffcf35913a0bee60e8741cb2b4e78b8a98ee5ff2e6a1...</td>\n      <td>[0689365050, 0884081001, 0794819001, 0762846027]</td>\n      <td>[14.0, 14.0, 14.0, 13.0]</td>\n    </tr>\n  </tbody>\n</table>\n<p>245945 rows × 3 columns</p>\n</div>"
     },
     "execution_count": 64,
     "metadata": {},
     "output_type": "execute_result"
    }
   ],
   "source": [
    "import time\n",
    "import datetime\n",
    "\n",
    "def create_apk_evaluation_subset(transactions, days):\n",
    "    transactions[\"timestamp\"] = transactions[\"t_dat\"].apply(lambda x: time.mktime(datetime.datetime.strptime(x, \"%Y-%m-%d\").timetuple()))\n",
    "    now_timestamp = transactions[\"timestamp\"].max()\n",
    "    transactions[\"days_since_transaction\"] = transactions[\"timestamp\"].apply(lambda x: (now_timestamp - x) // (60*60*24))\n",
    "    transactions_subset = transactions[transactions[\"timestamp\"] > (transactions[\"timestamp\"].max() - 60*60*24*days)]\n",
    "    #transactions_y_values = transactions_subset.groupby(\"customer_id\")[\"article_id\"].aggregate(lambda x: \" \".join(x)).reset_index()\n",
    "    transactions_y_values = transactions_subset.groupby(\"customer_id\")[\"article_id\"].apply(list).aggregate(lambda x: x).reset_index()\n",
    "    transactions_y_timestamp = transactions_subset.groupby(\"customer_id\")[\"days_since_transaction\"].apply(list).aggregate(lambda x: x).reset_index()\n",
    "    transactions_y_values = pd.merge(transactions_y_values, transactions_y_timestamp, how=\"inner\", on=\"customer_id\")\n",
    "\n",
    "    transactions_subset_train = transactions[transactions[\"timestamp\"] < (transactions[\"timestamp\"].max() - 60*60*24*days)]\n",
    "    transactions_x_values = transactions_subset_train.groupby(\"customer_id\")[\"article_id\"].apply(list).aggregate(lambda x: x).reset_index()\n",
    "    transactions_x_timestamps = transactions_subset_train.groupby(\"customer_id\")[\"days_since_transaction\"].apply(list).aggregate(lambda x: x).reset_index()\n",
    "    transactions_x_values = pd.merge(transactions_x_values, transactions_x_timestamps, how=\"inner\", on=\"customer_id\")\n",
    "    return transactions_y_values, transactions_x_values\n",
    "\n",
    "y_vals, x_vals = create_apk_evaluation_subset(df.copy(), Y_VALUE_PERIOD_DAYS)\n",
    "y_vals"
   ]
  },
  {
   "cell_type": "code",
   "execution_count": 65,
   "outputs": [
    {
     "name": "stdout",
     "output_type": "stream",
     "text": [
      "Y_vals:  (array([], dtype=int64),)\n",
      "X_vals:  (array([], dtype=int64),)\n"
     ]
    }
   ],
   "source": [
    "def detect_transaction_length_mismatch(input_df):\n",
    "    df_copy = input_df.copy()\n",
    "    df_copy[\"lens_article_id\"] = df_copy[\"article_id\"].apply(len)\n",
    "    df_copy[\"lens_days_since_transaction\"] = df_copy[\"days_since_transaction\"].apply(len)\n",
    "    df_copy[\"len_diff\"] = df_copy[\"lens_article_id\"] - df_copy[\"lens_days_since_transaction\"]\n",
    "    diff_array = df_copy[\"len_diff\"].to_numpy().nonzero()\n",
    "    return df_copy, diff_array\n",
    "\n",
    "diff_df_y, diff_array_y = detect_transaction_length_mismatch(y_vals)\n",
    "print(\"Y_vals: \", diff_array_y)\n",
    "diff_df_x, diff_array_x = detect_transaction_length_mismatch(y_vals)\n",
    "print(\"X_vals: \", diff_array_x)"
   ],
   "metadata": {
    "collapsed": false,
    "pycharm": {
     "name": "#%%\n"
    }
   }
  },
  {
   "cell_type": "code",
   "execution_count": 66,
   "outputs": [
    {
     "data": {
      "text/plain": "                                         customer_id  \\\n0  00000dbacae5abe5e23885899a1fa44253a17956c6d1c3...   \n1  0000423b00ade91418cceaf3b26c6af3dd342b51fd051e...   \n2  000058a12d5b43e67d225668fa1f8d618c13dc232df0ca...   \n3  00005ca1c9ed5f5146b52ac8639a40ca9d57aeff4d1bd2...   \n4  00006413d8573cd20ed7128e53b7b13819fe5cfc2d801f...   \n\n                                          article_id  \\\n0  [0625548001, 0176209023, 0627759010, 069713800...   \n1  [0583558001, 0639677008, 0640244003, 052126900...   \n2  [0663713001, 0541518023, 0663713001, 057802000...   \n3                           [0742079001, 0732413001]   \n4  [0634249005, 0677049001, 0698286003, 070770400...   \n\n                              days_since_transaction  \n0  [634.0, 634.0, 634.0, 509.0, 486.0, 486.0, 425...  \n1  [732.0, 732.0, 732.0, 728.0, 728.0, 726.0, 726...  \n2  [733.0, 733.0, 729.0, 570.0, 231.0, 231.0, 231...  \n3                                     [471.0, 471.0]  \n4  [711.0, 711.0, 564.0, 564.0, 357.0, 349.0, 111...  ",
      "text/html": "<div>\n<style scoped>\n    .dataframe tbody tr th:only-of-type {\n        vertical-align: middle;\n    }\n\n    .dataframe tbody tr th {\n        vertical-align: top;\n    }\n\n    .dataframe thead th {\n        text-align: right;\n    }\n</style>\n<table border=\"1\" class=\"dataframe\">\n  <thead>\n    <tr style=\"text-align: right;\">\n      <th></th>\n      <th>customer_id</th>\n      <th>article_id</th>\n      <th>days_since_transaction</th>\n    </tr>\n  </thead>\n  <tbody>\n    <tr>\n      <th>0</th>\n      <td>00000dbacae5abe5e23885899a1fa44253a17956c6d1c3...</td>\n      <td>[0625548001, 0176209023, 0627759010, 069713800...</td>\n      <td>[634.0, 634.0, 634.0, 509.0, 486.0, 486.0, 425...</td>\n    </tr>\n    <tr>\n      <th>1</th>\n      <td>0000423b00ade91418cceaf3b26c6af3dd342b51fd051e...</td>\n      <td>[0583558001, 0639677008, 0640244003, 052126900...</td>\n      <td>[732.0, 732.0, 732.0, 728.0, 728.0, 726.0, 726...</td>\n    </tr>\n    <tr>\n      <th>2</th>\n      <td>000058a12d5b43e67d225668fa1f8d618c13dc232df0ca...</td>\n      <td>[0663713001, 0541518023, 0663713001, 057802000...</td>\n      <td>[733.0, 733.0, 729.0, 570.0, 231.0, 231.0, 231...</td>\n    </tr>\n    <tr>\n      <th>3</th>\n      <td>00005ca1c9ed5f5146b52ac8639a40ca9d57aeff4d1bd2...</td>\n      <td>[0742079001, 0732413001]</td>\n      <td>[471.0, 471.0]</td>\n    </tr>\n    <tr>\n      <th>4</th>\n      <td>00006413d8573cd20ed7128e53b7b13819fe5cfc2d801f...</td>\n      <td>[0634249005, 0677049001, 0698286003, 070770400...</td>\n      <td>[711.0, 711.0, 564.0, 564.0, 357.0, 349.0, 111...</td>\n    </tr>\n  </tbody>\n</table>\n</div>"
     },
     "execution_count": 66,
     "metadata": {},
     "output_type": "execute_result"
    }
   ],
   "source": [
    "x_vals.head()"
   ],
   "metadata": {
    "collapsed": false,
    "pycharm": {
     "name": "#%%\n"
    }
   }
  },
  {
   "cell_type": "code",
   "execution_count": 67,
   "metadata": {
    "pycharm": {
     "name": "#%%\n"
    }
   },
   "outputs": [
    {
     "data": {
      "text/plain": "((1337403, 3), (245945, 3), (31788324, 5))"
     },
     "execution_count": 67,
     "metadata": {},
     "output_type": "execute_result"
    }
   ],
   "source": [
    "x_vals.shape, y_vals.shape, df.shape"
   ]
  },
  {
   "cell_type": "code",
   "execution_count": 68,
   "outputs": [
    {
     "name": "stdout",
     "output_type": "stream",
     "text": [
      "(100651,)\n"
     ]
    },
    {
     "data": {
      "text/plain": "0706016001    47792\n0706016002    34044\n0372860001    30572\n0610776002    28977\n0759871002    26130\n              ...  \n0896912001        1\n0255396010        1\n0522996003        1\n0563737001        1\n0568499001        1\nName: article_id, Length: 100651, dtype: int64"
     },
     "execution_count": 68,
     "metadata": {},
     "output_type": "execute_result"
    }
   ],
   "source": [
    "x_value_count_series = x_vals[\"article_id\"].explode().value_counts()\n",
    "print(x_value_count_series.shape)\n",
    "x_value_count_series"
   ],
   "metadata": {
    "collapsed": false,
    "pycharm": {
     "name": "#%%\n"
    }
   }
  },
  {
   "cell_type": "code",
   "execution_count": 69,
   "outputs": [
    {
     "name": "stdout",
     "output_type": "stream",
     "text": [
      "(28889,)\n"
     ]
    },
    {
     "data": {
      "text/plain": "0751471001    2936\n0915526001    2478\n0915529003    2468\n0918292001    2418\n0706016001    2413\n              ... \n0902864001       1\n0773278001       1\n0526751002       1\n0802821001       1\n0896214001       1\nName: article_id, Length: 28889, dtype: int64"
     },
     "execution_count": 69,
     "metadata": {},
     "output_type": "execute_result"
    }
   ],
   "source": [
    "y_value_count_series = y_vals[\"article_id\"].explode().value_counts()\n",
    "print(y_value_count_series.shape)\n",
    "y_value_count_series"
   ],
   "metadata": {
    "collapsed": false,
    "pycharm": {
     "name": "#%%\n"
    }
   }
  },
  {
   "cell_type": "code",
   "execution_count": 81,
   "outputs": [
    {
     "data": {
      "text/plain": "0685814001     998\n0751471001    2348\n0915529003    2200\n0896152002    1427\n0866731001    1122\nName: unique_article_id, dtype: int64"
     },
     "execution_count": 81,
     "metadata": {},
     "output_type": "execute_result"
    }
   ],
   "source": [
    "# 0685814001, menswear, Jersey, 998\n",
    "# 0751471001, ladieswear, trousers, 2348\n",
    "# 0915529003, ladieswear, sweater, 2200, knitwear\n",
    "# 0896152002, ladierwear, t-shirt, 1427\n",
    "# 0866731001, sports, leggins/tights, 1122\n",
    "\n",
    "#test_y_vals = y_vals.copy()\n",
    "# y_vals[\"article_id\"] = y_vals[\"article_id\"].apply(lambda x : x if type(x) == np.ndarray else np.array([x]))\n",
    "# x_vals[\"article_id\"] = x_vals[\"article_id\"].apply(lambda x : x if type(x) == np.ndarray else np.array([x]))\n",
    "y_vals[\"unique_article_id\"] = y_vals[\"article_id\"].apply(set)\n",
    "hand_picked_ids = [\"0685814001\", \"0751471001\", \"0915529003\", \"0896152002\", \"0866731001\"]\n",
    "#hand_picked_ids = [\"0751471001\", \"0915529003\"]\n",
    "if TOP_N == 0:\n",
    "    most_common_y_items = y_vals[\"unique_article_id\"].explode().value_counts().loc[hand_picked_ids]\n",
    "else:\n",
    "    most_common_y_items = y_vals[\"unique_article_id\"].explode().value_counts()[:TOP_N]\n",
    "\n",
    "most_common_y_items"
   ],
   "metadata": {
    "collapsed": false,
    "pycharm": {
     "name": "#%%\n"
    }
   }
  },
  {
   "cell_type": "code",
   "execution_count": 83,
   "metadata": {
    "pycharm": {
     "name": "#%%\n"
    }
   },
   "outputs": [
    {
     "ename": "AttributeError",
     "evalue": "'Rectangle' object has no property 'size'",
     "output_type": "error",
     "traceback": [
      "\u001B[1;31m---------------------------------------------------------------------------\u001B[0m",
      "\u001B[1;31mAttributeError\u001B[0m                            Traceback (most recent call last)",
      "Input \u001B[1;32mIn [83]\u001B[0m, in \u001B[0;36m<cell line: 7>\u001B[1;34m()\u001B[0m\n\u001B[0;32m      5\u001B[0m sns\u001B[38;5;241m.\u001B[39mset_theme()\n\u001B[0;32m      6\u001B[0m \u001B[38;5;66;03m#sns.lineplot(data=inv_vals)\u001B[39;00m\n\u001B[1;32m----> 7\u001B[0m \u001B[43msns\u001B[49m\u001B[38;5;241;43m.\u001B[39;49m\u001B[43mdisplot\u001B[49m\u001B[43m(\u001B[49m\u001B[43minv_vals_y\u001B[49m\u001B[43m[\u001B[49m\u001B[38;5;124;43m\"\u001B[39;49m\u001B[38;5;124;43mtrans_len\u001B[39;49m\u001B[38;5;124;43m\"\u001B[39;49m\u001B[43m]\u001B[49m\u001B[43m,\u001B[49m\u001B[43m \u001B[49m\u001B[43mkde\u001B[49m\u001B[38;5;241;43m=\u001B[39;49m\u001B[38;5;28;43;01mTrue\u001B[39;49;00m\u001B[43m,\u001B[49m\u001B[43m \u001B[49m\u001B[43msize\u001B[49m\u001B[38;5;241;43m=\u001B[39;49m\u001B[43m(\u001B[49m\u001B[38;5;241;43m100\u001B[39;49m\u001B[43m,\u001B[49m\u001B[38;5;241;43m100\u001B[39;49m\u001B[43m)\u001B[49m\u001B[43m)\u001B[49m\n\u001B[0;32m      9\u001B[0m inv_vals_x \u001B[38;5;241m=\u001B[39m x_vals\u001B[38;5;241m.\u001B[39mcopy()\n\u001B[0;32m     10\u001B[0m inv_vals_x[\u001B[38;5;124m\"\u001B[39m\u001B[38;5;124mtrans_len\u001B[39m\u001B[38;5;124m\"\u001B[39m] \u001B[38;5;241m=\u001B[39m inv_vals_x[\u001B[38;5;124m\"\u001B[39m\u001B[38;5;124marticle_id\u001B[39m\u001B[38;5;124m\"\u001B[39m]\u001B[38;5;241m.\u001B[39mapply(\u001B[38;5;28;01mlambda\u001B[39;00m x: \u001B[38;5;28mlen\u001B[39m(x))\n",
      "File \u001B[1;32m~\\Anaconda3\\envs\\PyTorch\\lib\\site-packages\\seaborn\\distributions.py:2274\u001B[0m, in \u001B[0;36mdisplot\u001B[1;34m(data, x, y, hue, row, col, weights, kind, rug, rug_kws, log_scale, legend, palette, hue_order, hue_norm, color, col_wrap, row_order, col_order, height, aspect, facet_kws, **kwargs)\u001B[0m\n\u001B[0;32m   2271\u001B[0m \u001B[38;5;28;01mif\u001B[39;00m p\u001B[38;5;241m.\u001B[39munivariate:\n\u001B[0;32m   2273\u001B[0m     _assign_default_kwargs(hist_kws, p\u001B[38;5;241m.\u001B[39mplot_univariate_histogram, histplot)\n\u001B[1;32m-> 2274\u001B[0m     \u001B[43mp\u001B[49m\u001B[38;5;241;43m.\u001B[39;49m\u001B[43mplot_univariate_histogram\u001B[49m\u001B[43m(\u001B[49m\u001B[38;5;241;43m*\u001B[39;49m\u001B[38;5;241;43m*\u001B[39;49m\u001B[43mhist_kws\u001B[49m\u001B[43m)\u001B[49m\n\u001B[0;32m   2276\u001B[0m \u001B[38;5;28;01melse\u001B[39;00m:\n\u001B[0;32m   2278\u001B[0m     _assign_default_kwargs(hist_kws, p\u001B[38;5;241m.\u001B[39mplot_bivariate_histogram, histplot)\n",
      "File \u001B[1;32m~\\Anaconda3\\envs\\PyTorch\\lib\\site-packages\\seaborn\\distributions.py:565\u001B[0m, in \u001B[0;36m_DistributionPlotter.plot_univariate_histogram\u001B[1;34m(self, multiple, element, fill, common_norm, common_bins, shrink, kde, kde_kws, color, legend, line_kws, estimate_kws, **plot_kws)\u001B[0m\n\u001B[0;32m    560\u001B[0m \u001B[38;5;28;01mif\u001B[39;00m element \u001B[38;5;241m==\u001B[39m \u001B[38;5;124m\"\u001B[39m\u001B[38;5;124mbars\u001B[39m\u001B[38;5;124m\"\u001B[39m:\n\u001B[0;32m    561\u001B[0m \n\u001B[0;32m    562\u001B[0m     \u001B[38;5;66;03m# Use matplotlib bar plotting\u001B[39;00m\n\u001B[0;32m    564\u001B[0m     plot_func \u001B[38;5;241m=\u001B[39m ax\u001B[38;5;241m.\u001B[39mbar \u001B[38;5;28;01mif\u001B[39;00m \u001B[38;5;28mself\u001B[39m\u001B[38;5;241m.\u001B[39mdata_variable \u001B[38;5;241m==\u001B[39m \u001B[38;5;124m\"\u001B[39m\u001B[38;5;124mx\u001B[39m\u001B[38;5;124m\"\u001B[39m \u001B[38;5;28;01melse\u001B[39;00m ax\u001B[38;5;241m.\u001B[39mbarh\n\u001B[1;32m--> 565\u001B[0m     artists \u001B[38;5;241m=\u001B[39m \u001B[43mplot_func\u001B[49m\u001B[43m(\u001B[49m\n\u001B[0;32m    566\u001B[0m \u001B[43m        \u001B[49m\u001B[43mhist\u001B[49m\u001B[43m[\u001B[49m\u001B[38;5;124;43m\"\u001B[39;49m\u001B[38;5;124;43medges\u001B[39;49m\u001B[38;5;124;43m\"\u001B[39;49m\u001B[43m]\u001B[49m\u001B[43m,\u001B[49m\n\u001B[0;32m    567\u001B[0m \u001B[43m        \u001B[49m\u001B[43mhist\u001B[49m\u001B[43m[\u001B[49m\u001B[38;5;124;43m\"\u001B[39;49m\u001B[38;5;124;43mheights\u001B[39;49m\u001B[38;5;124;43m\"\u001B[39;49m\u001B[43m]\u001B[49m\u001B[43m \u001B[49m\u001B[38;5;241;43m-\u001B[39;49m\u001B[43m \u001B[49m\u001B[43mbottom\u001B[49m\u001B[43m,\u001B[49m\n\u001B[0;32m    568\u001B[0m \u001B[43m        \u001B[49m\u001B[43mhist\u001B[49m\u001B[43m[\u001B[49m\u001B[38;5;124;43m\"\u001B[39;49m\u001B[38;5;124;43mwidths\u001B[39;49m\u001B[38;5;124;43m\"\u001B[39;49m\u001B[43m]\u001B[49m\u001B[43m,\u001B[49m\n\u001B[0;32m    569\u001B[0m \u001B[43m        \u001B[49m\u001B[43mbottom\u001B[49m\u001B[43m,\u001B[49m\n\u001B[0;32m    570\u001B[0m \u001B[43m        \u001B[49m\u001B[43malign\u001B[49m\u001B[38;5;241;43m=\u001B[39;49m\u001B[38;5;124;43m\"\u001B[39;49m\u001B[38;5;124;43medge\u001B[39;49m\u001B[38;5;124;43m\"\u001B[39;49m\u001B[43m,\u001B[49m\n\u001B[0;32m    571\u001B[0m \u001B[43m        \u001B[49m\u001B[38;5;241;43m*\u001B[39;49m\u001B[38;5;241;43m*\u001B[39;49m\u001B[43martist_kws\u001B[49m\u001B[43m,\u001B[49m\n\u001B[0;32m    572\u001B[0m \u001B[43m    \u001B[49m\u001B[43m)\u001B[49m\n\u001B[0;32m    573\u001B[0m     \u001B[38;5;28;01mfor\u001B[39;00m bar \u001B[38;5;129;01min\u001B[39;00m artists:\n\u001B[0;32m    574\u001B[0m         \u001B[38;5;28;01mif\u001B[39;00m \u001B[38;5;28mself\u001B[39m\u001B[38;5;241m.\u001B[39mdata_variable \u001B[38;5;241m==\u001B[39m \u001B[38;5;124m\"\u001B[39m\u001B[38;5;124mx\u001B[39m\u001B[38;5;124m\"\u001B[39m:\n",
      "File \u001B[1;32m~\\Anaconda3\\envs\\PyTorch\\lib\\site-packages\\matplotlib\\__init__.py:1412\u001B[0m, in \u001B[0;36m_preprocess_data.<locals>.inner\u001B[1;34m(ax, data, *args, **kwargs)\u001B[0m\n\u001B[0;32m   1409\u001B[0m \u001B[38;5;129m@functools\u001B[39m\u001B[38;5;241m.\u001B[39mwraps(func)\n\u001B[0;32m   1410\u001B[0m \u001B[38;5;28;01mdef\u001B[39;00m \u001B[38;5;21minner\u001B[39m(ax, \u001B[38;5;241m*\u001B[39margs, data\u001B[38;5;241m=\u001B[39m\u001B[38;5;28;01mNone\u001B[39;00m, \u001B[38;5;241m*\u001B[39m\u001B[38;5;241m*\u001B[39mkwargs):\n\u001B[0;32m   1411\u001B[0m     \u001B[38;5;28;01mif\u001B[39;00m data \u001B[38;5;129;01mis\u001B[39;00m \u001B[38;5;28;01mNone\u001B[39;00m:\n\u001B[1;32m-> 1412\u001B[0m         \u001B[38;5;28;01mreturn\u001B[39;00m \u001B[43mfunc\u001B[49m\u001B[43m(\u001B[49m\u001B[43max\u001B[49m\u001B[43m,\u001B[49m\u001B[43m \u001B[49m\u001B[38;5;241;43m*\u001B[39;49m\u001B[38;5;28;43mmap\u001B[39;49m\u001B[43m(\u001B[49m\u001B[43msanitize_sequence\u001B[49m\u001B[43m,\u001B[49m\u001B[43m \u001B[49m\u001B[43margs\u001B[49m\u001B[43m)\u001B[49m\u001B[43m,\u001B[49m\u001B[43m \u001B[49m\u001B[38;5;241;43m*\u001B[39;49m\u001B[38;5;241;43m*\u001B[39;49m\u001B[43mkwargs\u001B[49m\u001B[43m)\u001B[49m\n\u001B[0;32m   1414\u001B[0m     bound \u001B[38;5;241m=\u001B[39m new_sig\u001B[38;5;241m.\u001B[39mbind(ax, \u001B[38;5;241m*\u001B[39margs, \u001B[38;5;241m*\u001B[39m\u001B[38;5;241m*\u001B[39mkwargs)\n\u001B[0;32m   1415\u001B[0m     auto_label \u001B[38;5;241m=\u001B[39m (bound\u001B[38;5;241m.\u001B[39marguments\u001B[38;5;241m.\u001B[39mget(label_namer)\n\u001B[0;32m   1416\u001B[0m                   \u001B[38;5;129;01mor\u001B[39;00m bound\u001B[38;5;241m.\u001B[39mkwargs\u001B[38;5;241m.\u001B[39mget(label_namer))\n",
      "File \u001B[1;32m~\\Anaconda3\\envs\\PyTorch\\lib\\site-packages\\matplotlib\\axes\\_axes.py:2403\u001B[0m, in \u001B[0;36mAxes.bar\u001B[1;34m(self, x, height, width, bottom, align, **kwargs)\u001B[0m\n\u001B[0;32m   2394\u001B[0m \u001B[38;5;28;01mfor\u001B[39;00m l, b, w, h, c, e, lw, htch \u001B[38;5;129;01min\u001B[39;00m args:\n\u001B[0;32m   2395\u001B[0m     r \u001B[38;5;241m=\u001B[39m mpatches\u001B[38;5;241m.\u001B[39mRectangle(\n\u001B[0;32m   2396\u001B[0m         xy\u001B[38;5;241m=\u001B[39m(l, b), width\u001B[38;5;241m=\u001B[39mw, height\u001B[38;5;241m=\u001B[39mh,\n\u001B[0;32m   2397\u001B[0m         facecolor\u001B[38;5;241m=\u001B[39mc,\n\u001B[1;32m   (...)\u001B[0m\n\u001B[0;32m   2401\u001B[0m         hatch\u001B[38;5;241m=\u001B[39mhtch,\n\u001B[0;32m   2402\u001B[0m         )\n\u001B[1;32m-> 2403\u001B[0m     \u001B[43mr\u001B[49m\u001B[38;5;241;43m.\u001B[39;49m\u001B[43mupdate\u001B[49m\u001B[43m(\u001B[49m\u001B[43mkwargs\u001B[49m\u001B[43m)\u001B[49m\n\u001B[0;32m   2404\u001B[0m     r\u001B[38;5;241m.\u001B[39mget_path()\u001B[38;5;241m.\u001B[39m_interpolation_steps \u001B[38;5;241m=\u001B[39m \u001B[38;5;241m100\u001B[39m\n\u001B[0;32m   2405\u001B[0m     \u001B[38;5;28;01mif\u001B[39;00m orientation \u001B[38;5;241m==\u001B[39m \u001B[38;5;124m'\u001B[39m\u001B[38;5;124mvertical\u001B[39m\u001B[38;5;124m'\u001B[39m:\n",
      "File \u001B[1;32m~\\Anaconda3\\envs\\PyTorch\\lib\\site-packages\\matplotlib\\artist.py:1064\u001B[0m, in \u001B[0;36mArtist.update\u001B[1;34m(self, props)\u001B[0m\n\u001B[0;32m   1062\u001B[0m             func \u001B[38;5;241m=\u001B[39m \u001B[38;5;28mgetattr\u001B[39m(\u001B[38;5;28mself\u001B[39m, \u001B[38;5;124mf\u001B[39m\u001B[38;5;124m\"\u001B[39m\u001B[38;5;124mset_\u001B[39m\u001B[38;5;132;01m{\u001B[39;00mk\u001B[38;5;132;01m}\u001B[39;00m\u001B[38;5;124m\"\u001B[39m, \u001B[38;5;28;01mNone\u001B[39;00m)\n\u001B[0;32m   1063\u001B[0m             \u001B[38;5;28;01mif\u001B[39;00m \u001B[38;5;129;01mnot\u001B[39;00m callable(func):\n\u001B[1;32m-> 1064\u001B[0m                 \u001B[38;5;28;01mraise\u001B[39;00m \u001B[38;5;167;01mAttributeError\u001B[39;00m(\u001B[38;5;124mf\u001B[39m\u001B[38;5;124m\"\u001B[39m\u001B[38;5;132;01m{\u001B[39;00m\u001B[38;5;28mtype\u001B[39m(\u001B[38;5;28mself\u001B[39m)\u001B[38;5;241m.\u001B[39m\u001B[38;5;18m__name__\u001B[39m\u001B[38;5;132;01m!r}\u001B[39;00m\u001B[38;5;124m object \u001B[39m\u001B[38;5;124m\"\u001B[39m\n\u001B[0;32m   1065\u001B[0m                                      \u001B[38;5;124mf\u001B[39m\u001B[38;5;124m\"\u001B[39m\u001B[38;5;124mhas no property \u001B[39m\u001B[38;5;132;01m{\u001B[39;00mk\u001B[38;5;132;01m!r}\u001B[39;00m\u001B[38;5;124m\"\u001B[39m)\n\u001B[0;32m   1066\u001B[0m             ret\u001B[38;5;241m.\u001B[39mappend(func(v))\n\u001B[0;32m   1067\u001B[0m \u001B[38;5;28;01mif\u001B[39;00m ret:\n",
      "\u001B[1;31mAttributeError\u001B[0m: 'Rectangle' object has no property 'size'"
     ]
    },
    {
     "data": {
      "text/plain": "<Figure size 360x360 with 1 Axes>",
      "image/png": "[encoded data removed]"
     },
     "metadata": {},
     "output_type": "display_data"
    }
   ],
   "source": [
    "import seaborn as sns\n",
    "\n",
    "inv_vals_y = y_vals.copy()\n",
    "inv_vals_y[\"trans_len\"] = inv_vals_y[\"article_id\"].apply(lambda x: len(x))\n",
    "sns.set_theme()\n",
    "#sns.lineplot(data=inv_vals)\n",
    "sns.displot(inv_vals_y[\"trans_len\"], kde=True)\n",
    "\n",
    "inv_vals_x = x_vals.copy()\n",
    "inv_vals_x[\"trans_len\"] = inv_vals_x[\"article_id\"].apply(lambda x: len(x))\n",
    "#sns.lineplot(data=inv_vals)\n",
    "sns.displot(inv_vals_x[\"trans_len\"], kde=True)\n",
    "y_vals.size, x_vals.size"
   ]
  },
  {
   "cell_type": "code",
   "execution_count": 84,
   "outputs": [
    {
     "data": {
      "text/plain": "Index(['0685814001', '0751471001', '0915529003', '0896152002', '0866731001'], dtype='object')"
     },
     "execution_count": 84,
     "metadata": {},
     "output_type": "execute_result"
    }
   ],
   "source": [
    "most_common_y_items.index"
   ],
   "metadata": {
    "collapsed": false,
    "pycharm": {
     "name": "#%%\n"
    }
   }
  },
  {
   "cell_type": "code",
   "execution_count": 86,
   "outputs": [
    {
     "data": {
      "text/plain": "                                         customer_id article_id  \\\n0  00000dbacae5abe5e23885899a1fa44253a17956c6d1c3...         []   \n1  000058a12d5b43e67d225668fa1f8d618c13dc232df0ca...         []   \n2  0000757967448a6cb83efb3ea7a3fb9d418ac7adf2379d...         []   \n3  00009d946eec3ea54add5ba56d5210ea898def4b46c685...         []   \n4  0000b2f1829e23b24feec422ef13df3ccedaedc85368e6...         []   \n\n  days_since_transaction                                  unique_article_id  \n0                     []                                       {0568601043}  \n1                     []                                       {0794321007}  \n2                     []                           {0448509014, 0719530003}  \n3                     []  {0889652001, 0921226007, 0797892001, 051685900...  \n4                     []   {0706016015, 0914441005, 0778476005, 0706016038}  ",
      "text/html": "<div>\n<style scoped>\n    .dataframe tbody tr th:only-of-type {\n        vertical-align: middle;\n    }\n\n    .dataframe tbody tr th {\n        vertical-align: top;\n    }\n\n    .dataframe thead th {\n        text-align: right;\n    }\n</style>\n<table border=\"1\" class=\"dataframe\">\n  <thead>\n    <tr style=\"text-align: right;\">\n      <th></th>\n      <th>customer_id</th>\n      <th>article_id</th>\n      <th>days_since_transaction</th>\n      <th>unique_article_id</th>\n    </tr>\n  </thead>\n  <tbody>\n    <tr>\n      <th>0</th>\n      <td>00000dbacae5abe5e23885899a1fa44253a17956c6d1c3...</td>\n      <td>[]</td>\n      <td>[]</td>\n      <td>{0568601043}</td>\n    </tr>\n    <tr>\n      <th>1</th>\n      <td>000058a12d5b43e67d225668fa1f8d618c13dc232df0ca...</td>\n      <td>[]</td>\n      <td>[]</td>\n      <td>{0794321007}</td>\n    </tr>\n    <tr>\n      <th>2</th>\n      <td>0000757967448a6cb83efb3ea7a3fb9d418ac7adf2379d...</td>\n      <td>[]</td>\n      <td>[]</td>\n      <td>{0448509014, 0719530003}</td>\n    </tr>\n    <tr>\n      <th>3</th>\n      <td>00009d946eec3ea54add5ba56d5210ea898def4b46c685...</td>\n      <td>[]</td>\n      <td>[]</td>\n      <td>{0889652001, 0921226007, 0797892001, 051685900...</td>\n    </tr>\n    <tr>\n      <th>4</th>\n      <td>0000b2f1829e23b24feec422ef13df3ccedaedc85368e6...</td>\n      <td>[]</td>\n      <td>[]</td>\n      <td>{0706016015, 0914441005, 0778476005, 0706016038}</td>\n    </tr>\n  </tbody>\n</table>\n</div>"
     },
     "execution_count": 86,
     "metadata": {},
     "output_type": "execute_result"
    }
   ],
   "source": [
    "#Filter lists columns based on whether in top_items. Ensures that the age index matches the filtered item index\n",
    "y_vals[\"keep_indexes\"] = y_vals[\"article_id\"].apply(lambda x : [art_id in most_common_y_items for art_id in x])\n",
    "y_vals[\"article_id\"] = y_vals.apply(lambda x: np.array(x.article_id)[x.keep_indexes], axis=1)\n",
    "y_vals[\"days_since_transaction\"] = y_vals.apply(lambda x: np.array(x.days_since_transaction)[x.keep_indexes], axis=1)\n",
    "y_vals = y_vals.drop(columns=[\"keep_indexes\"], axis=0)\n",
    "y_vals.head()"
   ],
   "metadata": {
    "collapsed": false,
    "pycharm": {
     "name": "#%%\n"
    }
   }
  },
  {
   "cell_type": "code",
   "execution_count": 88,
   "outputs": [
    {
     "name": "stdout",
     "output_type": "stream",
     "text": [
      "(array([], dtype=int64),)\n",
      "(array([], dtype=int64),)\n"
     ]
    }
   ],
   "source": [
    "x_vals = x_vals[x_vals[\"article_id\"].map(len) > 0]\n",
    "x_vals[\"days_since_transaction\"] = x_vals[\"days_since_transaction\"].apply(np.asarray)\n",
    "x_vals[\"article_id\"] = x_vals[\"article_id\"].apply(np.asarray)\n",
    "print(detect_transaction_length_mismatch(x_vals)[1])\n",
    "y_vals = y_vals[y_vals[\"article_id\"].map(len) > 0]\n",
    "print(detect_transaction_length_mismatch(y_vals)[1])"
   ],
   "metadata": {
    "collapsed": false,
    "pycharm": {
     "name": "#%%\n"
    }
   }
  },
  {
   "cell_type": "code",
   "execution_count": 89,
   "outputs": [
    {
     "data": {
      "text/plain": "1     6710\n2     1017\n3      137\n4       35\n5        8\n6        7\n13       1\n30       1\n22       1\n35       1\n8        1\n9        1\n17       1\n12       1\nName: article_id, dtype: int64"
     },
     "execution_count": 89,
     "metadata": {},
     "output_type": "execute_result"
    }
   ],
   "source": [
    "# y_vals[\"article_id\"] = y_vals[\"article_id\"].apply(lambda x : list(filter(lambda y: y in top_items, x)))\n",
    "# #y_vals[\"article_len\"] = y_vals[\"article_id\"].apply(lambda x: len(x))\n",
    "# y_vals = y_vals[y_vals[\"article_id\"].map(len) > 0]\n",
    "\n",
    "#x_vals[\"article_id\"] = x_vals[\"article_id\"].apply(lambda x : list(filter(lambda y: y in top_items, x)))\n",
    "#test_x[\"article_len\"] = test_x[\"article_id\"].apply(lambda x: len(x))\n",
    "#x_vals = x_vals[x_vals[\"article_id\"].map(len) > 0]\n",
    "#x_vals['article_id'].apply(lambda x: len(x)).value_counts()\n",
    "y_vals['article_id'].apply(lambda x: len(x)).value_counts()"
   ],
   "metadata": {
    "collapsed": false,
    "pycharm": {
     "name": "#%%\n"
    }
   }
  },
  {
   "cell_type": "code",
   "execution_count": 91,
   "outputs": [
    {
     "data": {
      "text/plain": "                                               customer_id  \\\n0        00000dbacae5abe5e23885899a1fa44253a17956c6d1c3...   \n1        0000423b00ade91418cceaf3b26c6af3dd342b51fd051e...   \n2        000058a12d5b43e67d225668fa1f8d618c13dc232df0ca...   \n3        00005ca1c9ed5f5146b52ac8639a40ca9d57aeff4d1bd2...   \n4        00006413d8573cd20ed7128e53b7b13819fe5cfc2d801f...   \n...                                                    ...   \n1337398  ffffbbf78b6eaac697a8a5dfbfd2bfa8113ee5b403e474...   \n1337399  ffffcd5046a6143d29a04fb8c424ce494a76e5cdf4fab5...   \n1337400  ffffcf35913a0bee60e8741cb2b4e78b8a98ee5ff2e6a1...   \n1337401  ffffd7744cebcf3aca44ae7049d2a94b87074c3d4ffe38...   \n1337402  ffffd9ac14e89946416d80e791d064701994755c3ab686...   \n\n                                                article_id  \\\n0        [0625548001, 0176209023, 0627759010, 069713800...   \n1        [0583558001, 0639677008, 0640244003, 052126900...   \n2        [0663713001, 0541518023, 0663713001, 057802000...   \n3                                 [0742079001, 0732413001]   \n4        [0634249005, 0677049001, 0698286003, 070770400...   \n...                                                    ...   \n1337398  [0698276003, 0699075005, 0694182002, 072243600...   \n1337399  [0671695001, 0562245015, 0562245018, 056224500...   \n1337400  [0568597019, 0484398001, 0484398001, 070108300...   \n1337401  [0821395003, 0806241002, 0714790020, 086675500...   \n1337402                                       [0806050001]   \n\n                                    days_since_transaction  \n0        [634.0, 634.0, 634.0, 509.0, 486.0, 486.0, 425...  \n1        [732.0, 732.0, 732.0, 728.0, 728.0, 726.0, 726...  \n2        [733.0, 733.0, 729.0, 570.0, 231.0, 231.0, 231...  \n3                                           [471.0, 471.0]  \n4        [711.0, 711.0, 564.0, 564.0, 357.0, 349.0, 111...  \n...                                                    ...  \n1337398  [538.0, 538.0, 538.0, 538.0, 538.0, 538.0, 538...  \n1337399  [728.0, 671.0, 671.0, 671.0, 641.0, 558.0, 558...  \n1337400  [733.0, 705.0, 705.0, 657.0, 657.0, 657.0, 657...  \n1337401   [170.0, 170.0, 170.0, 166.0, 166.0, 150.0, 92.0]  \n1337402                                            [292.0]  \n\n[1337403 rows x 3 columns]",
      "text/html": "<div>\n<style scoped>\n    .dataframe tbody tr th:only-of-type {\n        vertical-align: middle;\n    }\n\n    .dataframe tbody tr th {\n        vertical-align: top;\n    }\n\n    .dataframe thead th {\n        text-align: right;\n    }\n</style>\n<table border=\"1\" class=\"dataframe\">\n  <thead>\n    <tr style=\"text-align: right;\">\n      <th></th>\n      <th>customer_id</th>\n      <th>article_id</th>\n      <th>days_since_transaction</th>\n    </tr>\n  </thead>\n  <tbody>\n    <tr>\n      <th>0</th>\n      <td>00000dbacae5abe5e23885899a1fa44253a17956c6d1c3...</td>\n      <td>[0625548001, 0176209023, 0627759010, 069713800...</td>\n      <td>[634.0, 634.0, 634.0, 509.0, 486.0, 486.0, 425...</td>\n    </tr>\n    <tr>\n      <th>1</th>\n      <td>0000423b00ade91418cceaf3b26c6af3dd342b51fd051e...</td>\n      <td>[0583558001, 0639677008, 0640244003, 052126900...</td>\n      <td>[732.0, 732.0, 732.0, 728.0, 728.0, 726.0, 726...</td>\n    </tr>\n    <tr>\n      <th>2</th>\n      <td>000058a12d5b43e67d225668fa1f8d618c13dc232df0ca...</td>\n      <td>[0663713001, 0541518023, 0663713001, 057802000...</td>\n      <td>[733.0, 733.0, 729.0, 570.0, 231.0, 231.0, 231...</td>\n    </tr>\n    <tr>\n      <th>3</th>\n      <td>00005ca1c9ed5f5146b52ac8639a40ca9d57aeff4d1bd2...</td>\n      <td>[0742079001, 0732413001]</td>\n      <td>[471.0, 471.0]</td>\n    </tr>\n    <tr>\n      <th>4</th>\n      <td>00006413d8573cd20ed7128e53b7b13819fe5cfc2d801f...</td>\n      <td>[0634249005, 0677049001, 0698286003, 070770400...</td>\n      <td>[711.0, 711.0, 564.0, 564.0, 357.0, 349.0, 111...</td>\n    </tr>\n    <tr>\n      <th>...</th>\n      <td>...</td>\n      <td>...</td>\n      <td>...</td>\n    </tr>\n    <tr>\n      <th>1337398</th>\n      <td>ffffbbf78b6eaac697a8a5dfbfd2bfa8113ee5b403e474...</td>\n      <td>[0698276003, 0699075005, 0694182002, 072243600...</td>\n      <td>[538.0, 538.0, 538.0, 538.0, 538.0, 538.0, 538...</td>\n    </tr>\n    <tr>\n      <th>1337399</th>\n      <td>ffffcd5046a6143d29a04fb8c424ce494a76e5cdf4fab5...</td>\n      <td>[0671695001, 0562245015, 0562245018, 056224500...</td>\n      <td>[728.0, 671.0, 671.0, 671.0, 641.0, 558.0, 558...</td>\n    </tr>\n    <tr>\n      <th>1337400</th>\n      <td>ffffcf35913a0bee60e8741cb2b4e78b8a98ee5ff2e6a1...</td>\n      <td>[0568597019, 0484398001, 0484398001, 070108300...</td>\n      <td>[733.0, 705.0, 705.0, 657.0, 657.0, 657.0, 657...</td>\n    </tr>\n    <tr>\n      <th>1337401</th>\n      <td>ffffd7744cebcf3aca44ae7049d2a94b87074c3d4ffe38...</td>\n      <td>[0821395003, 0806241002, 0714790020, 086675500...</td>\n      <td>[170.0, 170.0, 170.0, 166.0, 166.0, 150.0, 92.0]</td>\n    </tr>\n    <tr>\n      <th>1337402</th>\n      <td>ffffd9ac14e89946416d80e791d064701994755c3ab686...</td>\n      <td>[0806050001]</td>\n      <td>[292.0]</td>\n    </tr>\n  </tbody>\n</table>\n<p>1337403 rows × 3 columns</p>\n</div>"
     },
     "execution_count": 91,
     "metadata": {},
     "output_type": "execute_result"
    }
   ],
   "source": [
    "y_vals"
   ],
   "metadata": {
    "collapsed": false,
    "pycharm": {
     "name": "#%%\n"
    }
   }
  },
  {
   "cell_type": "code",
   "execution_count": 92,
   "outputs": [
    {
     "data": {
      "text/plain": "((1337403, 3), (7922, 4), (31788324, 5))"
     },
     "execution_count": 92,
     "metadata": {},
     "output_type": "execute_result"
    }
   ],
   "source": [
    "x_vals.shape, y_vals.shape, df.shape"
   ],
   "metadata": {
    "collapsed": false,
    "pycharm": {
     "name": "#%%\n"
    }
   }
  },
  {
   "cell_type": "code",
   "execution_count": 93,
   "outputs": [],
   "source": [
    "all_y_values = y_vals[\"article_id\"].explode()"
   ],
   "metadata": {
    "collapsed": false,
    "pycharm": {
     "name": "#%%\n"
    }
   }
  },
  {
   "cell_type": "code",
   "execution_count": 94,
   "outputs": [
    {
     "name": "stdout",
     "output_type": "stream",
     "text": [
      "Article_id: 0751471001, total count: 2936, percent of total: 0.3083%\n",
      "Article_id: 0915529003, total count: 2468, percent of total: 0.2592%\n",
      "Article_id: 0896152002, total count: 1602, percent of total: 0.1682%\n",
      "Article_id: 0866731001, total count: 1272, percent of total: 0.1336%\n",
      "Article_id: 0685814001, total count: 1245, percent of total: 0.1307%\n"
     ]
    }
   ],
   "source": [
    "y_count_sum = all_y_values.value_counts().sum()\n",
    "y_value_counts = all_y_values.value_counts()\n",
    "for article_id, art_count in zip(y_value_counts.index, y_value_counts.values):\n",
    "    print(f\"Article_id: {article_id}, total count: {art_count}, percent of total: {art_count/y_count_sum :.4}%\")"
   ],
   "metadata": {
    "collapsed": false,
    "pycharm": {
     "name": "#%%\n"
    }
   }
  },
  {
   "cell_type": "code",
   "execution_count": 95,
   "metadata": {
    "pycharm": {
     "name": "#%%\n"
    }
   },
   "outputs": [
    {
     "data": {
      "text/plain": "1      128651\n2      124964\n3       93982\n4       80864\n5       63774\n        ...  \n741         1\n640         1\n654         1\n782         1\n678         1\nName: article_id, Length: 728, dtype: int64"
     },
     "execution_count": 95,
     "metadata": {},
     "output_type": "execute_result"
    }
   ],
   "source": [
    "x_vals['article_id'].apply(lambda x: len(x)).value_counts()"
   ]
  },
  {
   "cell_type": "code",
   "execution_count": 22,
   "metadata": {
    "pycharm": {
     "name": "#%%\n"
    }
   },
   "outputs": [
    {
     "data": {
      "text/plain": "((1337403, 3), (10431, 4))"
     },
     "execution_count": 22,
     "metadata": {},
     "output_type": "execute_result"
    }
   ],
   "source": [
    "x_vals.shape, y_vals.shape"
   ]
  },
  {
   "cell_type": "code",
   "execution_count": 96,
   "metadata": {
    "pycharm": {
     "name": "#%%\n"
    }
   },
   "outputs": [
    {
     "name": "stdout",
     "output_type": "stream",
     "text": [
      "(7362, 6)\n"
     ]
    },
    {
     "data": {
      "text/plain": "                                          customer_id  \\\n0   000172a9c322560c849754ffbdfdb2180d408aa7176b94...   \n1   00077dbd5c4a4991e092e63893ccf29294a9d5c46e8501...   \n2   0016640d72ad1bcfe8dc30d8be1da4426d172fc2d88189...   \n3   001c45896cbadc098dd6b526ec66c81b2b18bfed057ba0...   \n4   00250644a9628fb8c4aebabf555d3caabe44c99c74fbcf...   \n5   003e53ba4aafc06bedafebcdf4f7356bbab4ea75025c30...   \n6   00415737ad0daa6c1e16bbbca3baa69dfeb257e8ceef5f...   \n7   00493ab28704e178f00b8c86e5fbec159f40ebd97d7360...   \n8   004d932f7a27ac3167c77db81d9cfd89392729e7f7e0d4...   \n9   00590a9eaa2794a26e8403fdbe589afdc9c911532a993a...   \n10  0066a25edd54eb2f86c7bc2f4255e43bf45551d3b9dc88...   \n11  0066eb743279371828aba20039e5a69b60acd872985b00...   \n12  006a9ca03c41ae1a3bad232da1337fc5b49637c97ccb74...   \n13  0071a08839ee650528afe22a7bff79334a09eed3edf67b...   \n14  0072ffad696d48b9fae2c899b4c1fd4bf934c77d298ece...   \n15  0075388c2b561d6a345084c9c6ca144c60d74b5f0a0d67...   \n16  007a2badbc1ea8dc71ee83a69a612781270e7e05b77017...   \n17  0088c308dca455c1c39bbaed8cfcf15a5c8a332a8dc854...   \n18  0088f2cbc6707eafd197551c5760b4328b4e0f39f2405b...   \n19  00908bbcc82a7649b648ff83f28d4f36bd5482683b9911...   \n20  00946cc25063c5f61adcdcee5b7110947fbeb577ba50ff...   \n21  00953d607bb9b498cf020c314436b74c54876e1f03739a...   \n22  009ba3da91cf2c0d144a981696dc5560710dc2d3ed2bb5...   \n23  00a4ef926a7bfc82ea2f59ca32c3261cbc4e592d549bbe...   \n24  00a69bed783860d6d82da6f451b20892f7e1355c241c0b...   \n25  00acae73e91b4c1cce6f3065a95c1222cfc2644b4e9fa8...   \n26  00accb75d0b3441f80da69b252b059e0f9b3d54dc075cc...   \n27  00ad144995f7c8b639a5a4f1c2ddf41cbe7bb88d92e8af...   \n28  00ae90f303ff3407777bc6d00ce28b4b6ce4ace5e4a504...   \n29  00b9e6bf0e73e5b64124b5de833356f791a001432dd2e1...   \n30  00bc05c8a86db39b42e498ce80d0733df833c561184c73...   \n31  00bce12709bdc1536ee25bc63e229d3746960b20cbbb75...   \n32  00c7c0117361bfff903f72ef18d0a5c1d26ce1572affbb...   \n33  00d82b6d1f22feb84aa516e5331eb74f434c6030cb91a1...   \n34  00d83a52e9d41dd5360b982ed3b401be128d6eb139caed...   \n35  00de0f442480958d4c86892efe81b5871beb79805dbdd0...   \n36  00f93fe5278ef767097015cf4fb804112c7e87db234a41...   \n37  00ff5a441b177aa71f151d322c39c33a3893d10ee7b258...   \n38  0100808c6880016290b28744ad47d8c8e3c29f5b3ee32a...   \n39  01080764b9d8e82bb52dc21ddf7cb40639e60ec9a33e23...   \n40  0108a69d02cf375b0fb043384240664254611ac7245e57...   \n41  0117bbca975fd76ffd2cb29c0c909254ffb7a5ad2ef77c...   \n42  0118e971ce5e96a2563849fead200a12d01d953c53e688...   \n43  011a56e492e84d2d35a69c4f649a96b55d104d95610ab9...   \n44  011d5eee07efdbc276c47c454389893d8190d3327f813a...   \n45  012e55b1b6ee2b942b5f2726c3239f92542b048aebb324...   \n46  01355697d5818432e4232d987896e15e8fc51d9c98092e...   \n47  013a46ecf612769560aeb04a24f258db6133d22db294bb...   \n48  0141c92149176273ec7f11748d37ff10a1f4c148078688...   \n49  01439cbbc15844086c0a29f5be963f71464280f68fdbcd...   \n\n                                         article_id_x  \\\n0   [0670942008, 0380609037, 0554811021, 070573200...   \n1   [0676387001, 0685687003, 0662980003, 052995300...   \n2   [0675657001, 0624632001, 0664338002, 056747500...   \n3   [0678983002, 0228257001, 0436261001, 022825700...   \n4   [0700329005, 0599502013, 0711193004, 070573400...   \n5   [0744630001, 0629746002, 0629746002, 015834000...   \n6   [0657155001, 0240561001, 0608769002, 066880600...   \n7   [0594264010, 0830667001, 0801512004, 089205100...   \n8   [0673873001, 0673873001, 0446224014, 067985400...   \n9   [0565379001, 0565379004, 0636455012, 066971300...   \n10  [0774107001, 0716581001, 0573716005, 057371601...   \n11  [0568808001, 0673638007, 0613456001, 056224504...   \n12  [0687535001, 0688873001, 0506110001, 018963400...   \n13  [0597891002, 0681176008, 0597891007, 066530000...   \n14  [0686070001, 0686070001, 0673504001, 072147600...   \n15  [0316085002, 0690478001, 0448515027, 063645500...   \n16  [0524825011, 0666382006, 0669713001, 069324200...   \n17  [0634070002, 0491912002, 0911736001, 091368800...   \n18  [0799417004, 0799417004, 0849584006, 086638300...   \n19  [0697054003, 0739953001, 0762846001, 073995300...   \n20  [0733149001, 0640990003, 0759469001, 074375900...   \n21                           [0758002010, 0757995007]   \n22  [0536139013, 0649437001, 0547937014, 072764200...   \n23  [0641666001, 0469137011, 0635495002, 057411200...   \n24  [0620746003, 0717593001, 0699358002, 067540800...   \n25  [0577512005, 0643591001, 0772149001, 074093800...   \n26  [0679854005, 0786304002, 0819520001, 081952000...   \n27  [0667499013, 0622878002, 0509091026, 035875300...   \n28  [0654266008, 0641815002, 0644630002, 064463000...   \n29  [0640622008, 0662344002, 0648627003, 069935800...   \n30               [0573716052, 0573716005, 0573716033]   \n31  [0628927001, 0678983002, 0678983008, 062448600...   \n32  [0687176002, 0711521001, 0723347001, 059958000...   \n33  [0685417002, 0723865001, 0243937025, 075265700...   \n34  [0632143001, 0632143001, 0447596001, 058448100...   \n35  [0537895005, 0543054006, 0552473035, 068582500...   \n36   [0188183023, 0698294001, 0595773002, 0673677004]   \n37  [0728197002, 0726228001, 0675027003, 076328000...   \n38  [0552346001, 0645275001, 0663236002, 066130600...   \n39  [0817353002, 0836699003, 0307239004, 087281300...   \n40                                       [0855081003]   \n41  [0539723006, 0633135004, 0501820003, 053972300...   \n42  [0612133002, 0399256002, 0679514001, 057668900...   \n43  [0647434001, 0661646001, 0611815001, 064905700...   \n44  [0701946001, 0739144002, 0736218002, 076822900...   \n45   [0844409002, 0902505001, 0832997004, 0808666002]   \n46  [0572400022, 0548467001, 0662948005, 070717900...   \n47  [0657512001, 0633130008, 0667499004, 072816200...   \n48  [0507564001, 0739144006, 0702802002, 074094300...   \n49   [0666448009, 0629042002, 0774151002, 0774151002]   \n\n                             days_since_transaction_x  \\\n0   [458.0, 458.0, 458.0, 458.0, 458.0, 458.0, 458...   \n1   [729.0, 729.0, 692.0, 692.0, 598.0, 598.0, 592...   \n2   [729.0, 718.0, 705.0, 705.0, 705.0, 697.0, 697...   \n3   [719.0, 719.0, 641.0, 641.0, 641.0, 418.0, 418...   \n4   [542.0, 542.0, 542.0, 542.0, 542.0, 542.0, 516...   \n5   [484.0, 484.0, 484.0, 349.0, 349.0, 349.0, 349...   \n6   [671.0, 671.0, 671.0, 671.0, 671.0, 671.0, 671...   \n7   [214.0, 214.0, 195.0, 111.0, 111.0, 97.0, 97.0...   \n8   [713.0, 713.0, 520.0, 520.0, 520.0, 520.0, 520...   \n9   [728.0, 728.0, 728.0, 728.0, 728.0, 726.0, 726...   \n10  [542.0, 426.0, 426.0, 426.0, 426.0, 426.0, 426...   \n11  [678.0, 675.0, 675.0, 675.0, 675.0, 675.0, 675...   \n12  [732.0, 732.0, 732.0, 732.0, 732.0, 732.0, 732...   \n13  [576.0, 576.0, 576.0, 576.0, 576.0, 552.0, 552...   \n14  [648.0, 648.0, 648.0, 468.0, 468.0, 468.0, 468...   \n15  [669.0, 669.0, 669.0, 669.0, 669.0, 653.0, 618...   \n16  [701.0, 701.0, 701.0, 639.0, 639.0, 639.0, 639...   \n17       [724.0, 724.0, 40.0, 37.0, 37.0, 34.0, 34.0]   \n18  [237.0, 237.0, 237.0, 237.0, 237.0, 237.0, 237...   \n19  [405.0, 405.0, 405.0, 403.0, 403.0, 327.0, 327...   \n20  [449.0, 449.0, 449.0, 442.0, 442.0, 442.0, 442...   \n21                                     [151.0, 151.0]   \n22  [713.0, 713.0, 654.0, 447.0, 447.0, 447.0, 447...   \n23  [698.0, 698.0, 688.0, 683.0, 668.0, 668.0, 663...   \n24  [724.0, 719.0, 719.0, 719.0, 719.0, 719.0, 685...   \n25  [710.0, 577.0, 459.0, 417.0, 417.0, 406.0, 406...   \n26  [177.0, 177.0, 177.0, 177.0, 177.0, 177.0, 177...   \n27  [715.0, 699.0, 698.0, 698.0, 698.0, 692.0, 692...   \n28  [695.0, 695.0, 695.0, 695.0, 695.0, 695.0, 695...   \n29  [683.0, 673.0, 673.0, 668.0, 660.0, 647.0, 637...   \n30                              [519.0, 503.0, 503.0]   \n31  [732.0, 732.0, 732.0, 732.0, 732.0, 732.0, 656...   \n32  [582.0, 582.0, 579.0, 579.0, 579.0, 534.0, 495...   \n33                [654.0, 640.0, 640.0, 345.0, 345.0]   \n34  [732.0, 732.0, 732.0, 732.0, 652.0, 652.0, 648...   \n35  [646.0, 646.0, 646.0, 646.0, 646.0, 646.0, 646...   \n36                       [449.0, 449.0, 305.0, 305.0]   \n37  [483.0, 428.0, 428.0, 381.0, 262.0, 262.0, 197...   \n38  [724.0, 724.0, 723.0, 706.0, 706.0, 697.0, 695...   \n39  [117.0, 117.0, 117.0, 117.0, 96.0, 96.0, 92.0,...   \n40                                             [35.0]   \n41  [724.0, 724.0, 724.0, 724.0, 724.0, 724.0, 651...   \n42  [732.0, 732.0, 732.0, 732.0, 732.0, 732.0, 732...   \n43  [713.0, 713.0, 684.0, 684.0, 684.0, 682.0, 682...   \n44  [668.0, 488.0, 488.0, 389.0, 389.0, 237.0, 237...   \n45                           [71.0, 71.0, 71.0, 71.0]   \n46  [702.0, 702.0, 702.0, 647.0, 533.0, 532.0, 460...   \n47  [724.0, 724.0, 717.0, 717.0, 674.0, 674.0, 633...   \n48  [454.0, 454.0, 454.0, 454.0, 454.0, 454.0, 354...   \n49                       [665.0, 665.0, 325.0, 311.0]   \n\n                                        article_id_y days_since_transaction_y  \\\n0               [0685814001, 0685814001, 0685814001]       [18.0, 18.0, 18.0]   \n1                                       [0915529003]                    [1.0]   \n2                                       [0896152002]                   [21.0]   \n3                                       [0915529003]                   [13.0]   \n4                                       [0751471001]                   [27.0]   \n5                           [0751471001, 0751471001]             [28.0, 28.0]   \n6                                       [0915529003]                   [27.0]   \n7                           [0896152002, 0896152002]             [17.0, 14.0]   \n8   [0751471001, 0751471001, 0751471001, 0751471001]     [7.0, 7.0, 0.0, 0.0]   \n9                           [0915529003, 0751471001]             [21.0, 21.0]   \n10                                      [0896152002]                   [21.0]   \n11                                      [0751471001]                    [0.0]   \n12                                      [0896152002]                   [21.0]   \n13                                      [0751471001]                   [14.0]   \n14                                      [0751471001]                   [23.0]   \n15                                      [0915529003]                   [28.0]   \n16                                      [0751471001]                   [22.0]   \n17                                      [0896152002]                   [23.0]   \n18                                      [0866731001]                    [9.0]   \n19                                      [0751471001]                   [21.0]   \n20                                      [0896152002]                   [25.0]   \n21                                      [0866731001]                   [11.0]   \n22                                      [0751471001]                    [6.0]   \n23                                      [0866731001]                    [3.0]   \n24                                      [0896152002]                    [7.0]   \n25                                      [0896152002]                   [28.0]   \n26                                      [0751471001]                    [8.0]   \n27                                      [0685814001]                   [23.0]   \n28                          [0866731001, 0866731001]             [18.0, 18.0]   \n29                                      [0915529003]                   [11.0]   \n30                          [0751471001, 0751471001]               [0.0, 0.0]   \n31                                      [0866731001]                    [5.0]   \n32                          [0751471001, 0751471001]             [23.0, 23.0]   \n33                          [0751471001, 0751471001]             [15.0, 15.0]   \n34                                      [0915529003]                    [9.0]   \n35                                      [0896152002]                   [25.0]   \n36                          [0915529003, 0915529003]             [26.0, 26.0]   \n37                                      [0915529003]                   [10.0]   \n38                          [0751471001, 0751471001]             [20.0, 13.0]   \n39                                      [0915529003]                   [22.0]   \n40                                      [0915529003]                    [2.0]   \n41                                      [0751471001]                    [9.0]   \n42              [0896152002, 0751471001, 0751471001]       [27.0, 27.0, 27.0]   \n43                                      [0915529003]                   [28.0]   \n44                          [0751471001, 0751471001]             [19.0, 19.0]   \n45                                      [0915529003]                    [9.0]   \n46                                      [0685814001]                    [3.0]   \n47                                      [0751471001]                   [10.0]   \n48                          [0896152002, 0751471001]               [6.0, 6.0]   \n49                                      [0915529003]                   [12.0]   \n\n                                    unique_article_id  \n0                                        {0685814001}  \n1   {0915529003, 0929744001, 0486639003, 086579900...  \n2                            {0896152002, 0893059004}  \n3    {0915529003, 0923340002, 0915487001, 0904297001}  \n4   {0857163001, 0874754016, 0885951001, 089843900...  \n5   {0640021024, 0868823008, 0887681001, 075147100...  \n6   {0915529001, 0845790002, 0881751002, 076786200...  \n7    {0896152002, 0849493006, 0772902010, 0772902001}  \n8   {0783346023, 0678942001, 0783346028, 075147100...  \n9   {0915529003, 0751471001, 0871517016, 093176900...  \n10  {0924250001, 0918516001, 0896169002, 089615200...  \n11  {0850917001, 0751471001, 0889456002, 085091700...  \n12  {0871655001, 0918522001, 0889669007, 092375800...  \n13  {0930058001, 0751471039, 0751471001, 075147102...  \n14  {0871002001, 0889460003, 0751592001, 092650000...  \n15  {0915529003, 0904584002, 0904584009, 061077606...  \n16  {0865926002, 0865929003, 0751471001, 086592900...  \n17  {0814614001, 0851545002, 0865939001, 091545300...  \n18                           {0861803009, 0866731001}  \n19                           {0751471001, 0751471043}  \n20  {0877845002, 0906352001, 0915526001, 086359500...  \n21  {0556539001, 0866731001, 0806388003, 080638801...  \n22   {0751471001, 0568601006, 0872924001, 0873678002}  \n23  {0653275005, 0653275007, 0871004001, 086673100...  \n24  {0897738001, 0882146003, 0914453002, 084138300...  \n25                           {0896152002, 0896152001}  \n26                           {0751471001, 0902265002}  \n27                                       {0685814001}  \n28  {0852748003, 0802980001, 0852748006, 086673100...  \n29                                       {0915529003}  \n30  {0918894001, 0751471001, 0923340001, 090430200...  \n31  {0918292001, 0905803001, 0868823008, 085217400...  \n32                                       {0751471001}  \n33  {0751471039, 0790791008, 0751471001, 079621001...  \n34  {0896342003, 0715624053, 0809238005, 088595100...  \n35  {0865929003, 0816521002, 0516903027, 090630500...  \n36  {0685814005, 0915529003, 0842000003, 087862900...  \n37                           {0915529003, 0754267058}  \n38  {0911870004, 0865926002, 0757303015, 057847600...  \n39               {0915529003, 0873276003, 0859711001}  \n40  {0915529003, 0872537002, 0762846027, 089561000...  \n41  {0573085052, 0706016001, 0751471001, 088194200...  \n42  {0893420001, 0673677002, 0884319001, 057847600...  \n43  {0879088001, 0915529003, 0915529001, 087315800...  \n44  {0800691008, 0903910001, 0751471001, 088343500...  \n45  {0910933001, 0915529003, 0891591007, 086794800...  \n46   {0865929003, 0685814001, 0924243001, 0924243002}  \n47                           {0751471001, 0760084003}  \n48                           {0751471001, 0896152002}  \n49                           {0915529003, 0935689001}  ",
      "text/html": "<div>\n<style scoped>\n    .dataframe tbody tr th:only-of-type {\n        vertical-align: middle;\n    }\n\n    .dataframe tbody tr th {\n        vertical-align: top;\n    }\n\n    .dataframe thead th {\n        text-align: right;\n    }\n</style>\n<table border=\"1\" class=\"dataframe\">\n  <thead>\n    <tr style=\"text-align: right;\">\n      <th></th>\n      <th>customer_id</th>\n      <th>article_id_x</th>\n      <th>days_since_transaction_x</th>\n      <th>article_id_y</th>\n      <th>days_since_transaction_y</th>\n      <th>unique_article_id</th>\n    </tr>\n  </thead>\n  <tbody>\n    <tr>\n      <th>0</th>\n      <td>000172a9c322560c849754ffbdfdb2180d408aa7176b94...</td>\n      <td>[0670942008, 0380609037, 0554811021, 070573200...</td>\n      <td>[458.0, 458.0, 458.0, 458.0, 458.0, 458.0, 458...</td>\n      <td>[0685814001, 0685814001, 0685814001]</td>\n      <td>[18.0, 18.0, 18.0]</td>\n      <td>{0685814001}</td>\n    </tr>\n    <tr>\n      <th>1</th>\n      <td>00077dbd5c4a4991e092e63893ccf29294a9d5c46e8501...</td>\n      <td>[0676387001, 0685687003, 0662980003, 052995300...</td>\n      <td>[729.0, 729.0, 692.0, 692.0, 598.0, 598.0, 592...</td>\n      <td>[0915529003]</td>\n      <td>[1.0]</td>\n      <td>{0915529003, 0929744001, 0486639003, 086579900...</td>\n    </tr>\n    <tr>\n      <th>2</th>\n      <td>0016640d72ad1bcfe8dc30d8be1da4426d172fc2d88189...</td>\n      <td>[0675657001, 0624632001, 0664338002, 056747500...</td>\n      <td>[729.0, 718.0, 705.0, 705.0, 705.0, 697.0, 697...</td>\n      <td>[0896152002]</td>\n      <td>[21.0]</td>\n      <td>{0896152002, 0893059004}</td>\n    </tr>\n    <tr>\n      <th>3</th>\n      <td>001c45896cbadc098dd6b526ec66c81b2b18bfed057ba0...</td>\n      <td>[0678983002, 0228257001, 0436261001, 022825700...</td>\n      <td>[719.0, 719.0, 641.0, 641.0, 641.0, 418.0, 418...</td>\n      <td>[0915529003]</td>\n      <td>[13.0]</td>\n      <td>{0915529003, 0923340002, 0915487001, 0904297001}</td>\n    </tr>\n    <tr>\n      <th>4</th>\n      <td>00250644a9628fb8c4aebabf555d3caabe44c99c74fbcf...</td>\n      <td>[0700329005, 0599502013, 0711193004, 070573400...</td>\n      <td>[542.0, 542.0, 542.0, 542.0, 542.0, 542.0, 516...</td>\n      <td>[0751471001]</td>\n      <td>[27.0]</td>\n      <td>{0857163001, 0874754016, 0885951001, 089843900...</td>\n    </tr>\n    <tr>\n      <th>5</th>\n      <td>003e53ba4aafc06bedafebcdf4f7356bbab4ea75025c30...</td>\n      <td>[0744630001, 0629746002, 0629746002, 015834000...</td>\n      <td>[484.0, 484.0, 484.0, 349.0, 349.0, 349.0, 349...</td>\n      <td>[0751471001, 0751471001]</td>\n      <td>[28.0, 28.0]</td>\n      <td>{0640021024, 0868823008, 0887681001, 075147100...</td>\n    </tr>\n    <tr>\n      <th>6</th>\n      <td>00415737ad0daa6c1e16bbbca3baa69dfeb257e8ceef5f...</td>\n      <td>[0657155001, 0240561001, 0608769002, 066880600...</td>\n      <td>[671.0, 671.0, 671.0, 671.0, 671.0, 671.0, 671...</td>\n      <td>[0915529003]</td>\n      <td>[27.0]</td>\n      <td>{0915529001, 0845790002, 0881751002, 076786200...</td>\n    </tr>\n    <tr>\n      <th>7</th>\n      <td>00493ab28704e178f00b8c86e5fbec159f40ebd97d7360...</td>\n      <td>[0594264010, 0830667001, 0801512004, 089205100...</td>\n      <td>[214.0, 214.0, 195.0, 111.0, 111.0, 97.0, 97.0...</td>\n      <td>[0896152002, 0896152002]</td>\n      <td>[17.0, 14.0]</td>\n      <td>{0896152002, 0849493006, 0772902010, 0772902001}</td>\n    </tr>\n    <tr>\n      <th>8</th>\n      <td>004d932f7a27ac3167c77db81d9cfd89392729e7f7e0d4...</td>\n      <td>[0673873001, 0673873001, 0446224014, 067985400...</td>\n      <td>[713.0, 713.0, 520.0, 520.0, 520.0, 520.0, 520...</td>\n      <td>[0751471001, 0751471001, 0751471001, 0751471001]</td>\n      <td>[7.0, 7.0, 0.0, 0.0]</td>\n      <td>{0783346023, 0678942001, 0783346028, 075147100...</td>\n    </tr>\n    <tr>\n      <th>9</th>\n      <td>00590a9eaa2794a26e8403fdbe589afdc9c911532a993a...</td>\n      <td>[0565379001, 0565379004, 0636455012, 066971300...</td>\n      <td>[728.0, 728.0, 728.0, 728.0, 728.0, 726.0, 726...</td>\n      <td>[0915529003, 0751471001]</td>\n      <td>[21.0, 21.0]</td>\n      <td>{0915529003, 0751471001, 0871517016, 093176900...</td>\n    </tr>\n    <tr>\n      <th>10</th>\n      <td>0066a25edd54eb2f86c7bc2f4255e43bf45551d3b9dc88...</td>\n      <td>[0774107001, 0716581001, 0573716005, 057371601...</td>\n      <td>[542.0, 426.0, 426.0, 426.0, 426.0, 426.0, 426...</td>\n      <td>[0896152002]</td>\n      <td>[21.0]</td>\n      <td>{0924250001, 0918516001, 0896169002, 089615200...</td>\n    </tr>\n    <tr>\n      <th>11</th>\n      <td>0066eb743279371828aba20039e5a69b60acd872985b00...</td>\n      <td>[0568808001, 0673638007, 0613456001, 056224504...</td>\n      <td>[678.0, 675.0, 675.0, 675.0, 675.0, 675.0, 675...</td>\n      <td>[0751471001]</td>\n      <td>[0.0]</td>\n      <td>{0850917001, 0751471001, 0889456002, 085091700...</td>\n    </tr>\n    <tr>\n      <th>12</th>\n      <td>006a9ca03c41ae1a3bad232da1337fc5b49637c97ccb74...</td>\n      <td>[0687535001, 0688873001, 0506110001, 018963400...</td>\n      <td>[732.0, 732.0, 732.0, 732.0, 732.0, 732.0, 732...</td>\n      <td>[0896152002]</td>\n      <td>[21.0]</td>\n      <td>{0871655001, 0918522001, 0889669007, 092375800...</td>\n    </tr>\n    <tr>\n      <th>13</th>\n      <td>0071a08839ee650528afe22a7bff79334a09eed3edf67b...</td>\n      <td>[0597891002, 0681176008, 0597891007, 066530000...</td>\n      <td>[576.0, 576.0, 576.0, 576.0, 576.0, 552.0, 552...</td>\n      <td>[0751471001]</td>\n      <td>[14.0]</td>\n      <td>{0930058001, 0751471039, 0751471001, 075147102...</td>\n    </tr>\n    <tr>\n      <th>14</th>\n      <td>0072ffad696d48b9fae2c899b4c1fd4bf934c77d298ece...</td>\n      <td>[0686070001, 0686070001, 0673504001, 072147600...</td>\n      <td>[648.0, 648.0, 648.0, 468.0, 468.0, 468.0, 468...</td>\n      <td>[0751471001]</td>\n      <td>[23.0]</td>\n      <td>{0871002001, 0889460003, 0751592001, 092650000...</td>\n    </tr>\n    <tr>\n      <th>15</th>\n      <td>0075388c2b561d6a345084c9c6ca144c60d74b5f0a0d67...</td>\n      <td>[0316085002, 0690478001, 0448515027, 063645500...</td>\n      <td>[669.0, 669.0, 669.0, 669.0, 669.0, 653.0, 618...</td>\n      <td>[0915529003]</td>\n      <td>[28.0]</td>\n      <td>{0915529003, 0904584002, 0904584009, 061077606...</td>\n    </tr>\n    <tr>\n      <th>16</th>\n      <td>007a2badbc1ea8dc71ee83a69a612781270e7e05b77017...</td>\n      <td>[0524825011, 0666382006, 0669713001, 069324200...</td>\n      <td>[701.0, 701.0, 701.0, 639.0, 639.0, 639.0, 639...</td>\n      <td>[0751471001]</td>\n      <td>[22.0]</td>\n      <td>{0865926002, 0865929003, 0751471001, 086592900...</td>\n    </tr>\n    <tr>\n      <th>17</th>\n      <td>0088c308dca455c1c39bbaed8cfcf15a5c8a332a8dc854...</td>\n      <td>[0634070002, 0491912002, 0911736001, 091368800...</td>\n      <td>[724.0, 724.0, 40.0, 37.0, 37.0, 34.0, 34.0]</td>\n      <td>[0896152002]</td>\n      <td>[23.0]</td>\n      <td>{0814614001, 0851545002, 0865939001, 091545300...</td>\n    </tr>\n    <tr>\n      <th>18</th>\n      <td>0088f2cbc6707eafd197551c5760b4328b4e0f39f2405b...</td>\n      <td>[0799417004, 0799417004, 0849584006, 086638300...</td>\n      <td>[237.0, 237.0, 237.0, 237.0, 237.0, 237.0, 237...</td>\n      <td>[0866731001]</td>\n      <td>[9.0]</td>\n      <td>{0861803009, 0866731001}</td>\n    </tr>\n    <tr>\n      <th>19</th>\n      <td>00908bbcc82a7649b648ff83f28d4f36bd5482683b9911...</td>\n      <td>[0697054003, 0739953001, 0762846001, 073995300...</td>\n      <td>[405.0, 405.0, 405.0, 403.0, 403.0, 327.0, 327...</td>\n      <td>[0751471001]</td>\n      <td>[21.0]</td>\n      <td>{0751471001, 0751471043}</td>\n    </tr>\n    <tr>\n      <th>20</th>\n      <td>00946cc25063c5f61adcdcee5b7110947fbeb577ba50ff...</td>\n      <td>[0733149001, 0640990003, 0759469001, 074375900...</td>\n      <td>[449.0, 449.0, 449.0, 442.0, 442.0, 442.0, 442...</td>\n      <td>[0896152002]</td>\n      <td>[25.0]</td>\n      <td>{0877845002, 0906352001, 0915526001, 086359500...</td>\n    </tr>\n    <tr>\n      <th>21</th>\n      <td>00953d607bb9b498cf020c314436b74c54876e1f03739a...</td>\n      <td>[0758002010, 0757995007]</td>\n      <td>[151.0, 151.0]</td>\n      <td>[0866731001]</td>\n      <td>[11.0]</td>\n      <td>{0556539001, 0866731001, 0806388003, 080638801...</td>\n    </tr>\n    <tr>\n      <th>22</th>\n      <td>009ba3da91cf2c0d144a981696dc5560710dc2d3ed2bb5...</td>\n      <td>[0536139013, 0649437001, 0547937014, 072764200...</td>\n      <td>[713.0, 713.0, 654.0, 447.0, 447.0, 447.0, 447...</td>\n      <td>[0751471001]</td>\n      <td>[6.0]</td>\n      <td>{0751471001, 0568601006, 0872924001, 0873678002}</td>\n    </tr>\n    <tr>\n      <th>23</th>\n      <td>00a4ef926a7bfc82ea2f59ca32c3261cbc4e592d549bbe...</td>\n      <td>[0641666001, 0469137011, 0635495002, 057411200...</td>\n      <td>[698.0, 698.0, 688.0, 683.0, 668.0, 668.0, 663...</td>\n      <td>[0866731001]</td>\n      <td>[3.0]</td>\n      <td>{0653275005, 0653275007, 0871004001, 086673100...</td>\n    </tr>\n    <tr>\n      <th>24</th>\n      <td>00a69bed783860d6d82da6f451b20892f7e1355c241c0b...</td>\n      <td>[0620746003, 0717593001, 0699358002, 067540800...</td>\n      <td>[724.0, 719.0, 719.0, 719.0, 719.0, 719.0, 685...</td>\n      <td>[0896152002]</td>\n      <td>[7.0]</td>\n      <td>{0897738001, 0882146003, 0914453002, 084138300...</td>\n    </tr>\n    <tr>\n      <th>25</th>\n      <td>00acae73e91b4c1cce6f3065a95c1222cfc2644b4e9fa8...</td>\n      <td>[0577512005, 0643591001, 0772149001, 074093800...</td>\n      <td>[710.0, 577.0, 459.0, 417.0, 417.0, 406.0, 406...</td>\n      <td>[0896152002]</td>\n      <td>[28.0]</td>\n      <td>{0896152002, 0896152001}</td>\n    </tr>\n    <tr>\n      <th>26</th>\n      <td>00accb75d0b3441f80da69b252b059e0f9b3d54dc075cc...</td>\n      <td>[0679854005, 0786304002, 0819520001, 081952000...</td>\n      <td>[177.0, 177.0, 177.0, 177.0, 177.0, 177.0, 177...</td>\n      <td>[0751471001]</td>\n      <td>[8.0]</td>\n      <td>{0751471001, 0902265002}</td>\n    </tr>\n    <tr>\n      <th>27</th>\n      <td>00ad144995f7c8b639a5a4f1c2ddf41cbe7bb88d92e8af...</td>\n      <td>[0667499013, 0622878002, 0509091026, 035875300...</td>\n      <td>[715.0, 699.0, 698.0, 698.0, 698.0, 692.0, 692...</td>\n      <td>[0685814001]</td>\n      <td>[23.0]</td>\n      <td>{0685814001}</td>\n    </tr>\n    <tr>\n      <th>28</th>\n      <td>00ae90f303ff3407777bc6d00ce28b4b6ce4ace5e4a504...</td>\n      <td>[0654266008, 0641815002, 0644630002, 064463000...</td>\n      <td>[695.0, 695.0, 695.0, 695.0, 695.0, 695.0, 695...</td>\n      <td>[0866731001, 0866731001]</td>\n      <td>[18.0, 18.0]</td>\n      <td>{0852748003, 0802980001, 0852748006, 086673100...</td>\n    </tr>\n    <tr>\n      <th>29</th>\n      <td>00b9e6bf0e73e5b64124b5de833356f791a001432dd2e1...</td>\n      <td>[0640622008, 0662344002, 0648627003, 069935800...</td>\n      <td>[683.0, 673.0, 673.0, 668.0, 660.0, 647.0, 637...</td>\n      <td>[0915529003]</td>\n      <td>[11.0]</td>\n      <td>{0915529003}</td>\n    </tr>\n    <tr>\n      <th>30</th>\n      <td>00bc05c8a86db39b42e498ce80d0733df833c561184c73...</td>\n      <td>[0573716052, 0573716005, 0573716033]</td>\n      <td>[519.0, 503.0, 503.0]</td>\n      <td>[0751471001, 0751471001]</td>\n      <td>[0.0, 0.0]</td>\n      <td>{0918894001, 0751471001, 0923340001, 090430200...</td>\n    </tr>\n    <tr>\n      <th>31</th>\n      <td>00bce12709bdc1536ee25bc63e229d3746960b20cbbb75...</td>\n      <td>[0628927001, 0678983002, 0678983008, 062448600...</td>\n      <td>[732.0, 732.0, 732.0, 732.0, 732.0, 732.0, 656...</td>\n      <td>[0866731001]</td>\n      <td>[5.0]</td>\n      <td>{0918292001, 0905803001, 0868823008, 085217400...</td>\n    </tr>\n    <tr>\n      <th>32</th>\n      <td>00c7c0117361bfff903f72ef18d0a5c1d26ce1572affbb...</td>\n      <td>[0687176002, 0711521001, 0723347001, 059958000...</td>\n      <td>[582.0, 582.0, 579.0, 579.0, 579.0, 534.0, 495...</td>\n      <td>[0751471001, 0751471001]</td>\n      <td>[23.0, 23.0]</td>\n      <td>{0751471001}</td>\n    </tr>\n    <tr>\n      <th>33</th>\n      <td>00d82b6d1f22feb84aa516e5331eb74f434c6030cb91a1...</td>\n      <td>[0685417002, 0723865001, 0243937025, 075265700...</td>\n      <td>[654.0, 640.0, 640.0, 345.0, 345.0]</td>\n      <td>[0751471001, 0751471001]</td>\n      <td>[15.0, 15.0]</td>\n      <td>{0751471039, 0790791008, 0751471001, 079621001...</td>\n    </tr>\n    <tr>\n      <th>34</th>\n      <td>00d83a52e9d41dd5360b982ed3b401be128d6eb139caed...</td>\n      <td>[0632143001, 0632143001, 0447596001, 058448100...</td>\n      <td>[732.0, 732.0, 732.0, 732.0, 652.0, 652.0, 648...</td>\n      <td>[0915529003]</td>\n      <td>[9.0]</td>\n      <td>{0896342003, 0715624053, 0809238005, 088595100...</td>\n    </tr>\n    <tr>\n      <th>35</th>\n      <td>00de0f442480958d4c86892efe81b5871beb79805dbdd0...</td>\n      <td>[0537895005, 0543054006, 0552473035, 068582500...</td>\n      <td>[646.0, 646.0, 646.0, 646.0, 646.0, 646.0, 646...</td>\n      <td>[0896152002]</td>\n      <td>[25.0]</td>\n      <td>{0865929003, 0816521002, 0516903027, 090630500...</td>\n    </tr>\n    <tr>\n      <th>36</th>\n      <td>00f93fe5278ef767097015cf4fb804112c7e87db234a41...</td>\n      <td>[0188183023, 0698294001, 0595773002, 0673677004]</td>\n      <td>[449.0, 449.0, 305.0, 305.0]</td>\n      <td>[0915529003, 0915529003]</td>\n      <td>[26.0, 26.0]</td>\n      <td>{0685814005, 0915529003, 0842000003, 087862900...</td>\n    </tr>\n    <tr>\n      <th>37</th>\n      <td>00ff5a441b177aa71f151d322c39c33a3893d10ee7b258...</td>\n      <td>[0728197002, 0726228001, 0675027003, 076328000...</td>\n      <td>[483.0, 428.0, 428.0, 381.0, 262.0, 262.0, 197...</td>\n      <td>[0915529003]</td>\n      <td>[10.0]</td>\n      <td>{0915529003, 0754267058}</td>\n    </tr>\n    <tr>\n      <th>38</th>\n      <td>0100808c6880016290b28744ad47d8c8e3c29f5b3ee32a...</td>\n      <td>[0552346001, 0645275001, 0663236002, 066130600...</td>\n      <td>[724.0, 724.0, 723.0, 706.0, 706.0, 697.0, 695...</td>\n      <td>[0751471001, 0751471001]</td>\n      <td>[20.0, 13.0]</td>\n      <td>{0911870004, 0865926002, 0757303015, 057847600...</td>\n    </tr>\n    <tr>\n      <th>39</th>\n      <td>01080764b9d8e82bb52dc21ddf7cb40639e60ec9a33e23...</td>\n      <td>[0817353002, 0836699003, 0307239004, 087281300...</td>\n      <td>[117.0, 117.0, 117.0, 117.0, 96.0, 96.0, 92.0,...</td>\n      <td>[0915529003]</td>\n      <td>[22.0]</td>\n      <td>{0915529003, 0873276003, 0859711001}</td>\n    </tr>\n    <tr>\n      <th>40</th>\n      <td>0108a69d02cf375b0fb043384240664254611ac7245e57...</td>\n      <td>[0855081003]</td>\n      <td>[35.0]</td>\n      <td>[0915529003]</td>\n      <td>[2.0]</td>\n      <td>{0915529003, 0872537002, 0762846027, 089561000...</td>\n    </tr>\n    <tr>\n      <th>41</th>\n      <td>0117bbca975fd76ffd2cb29c0c909254ffb7a5ad2ef77c...</td>\n      <td>[0539723006, 0633135004, 0501820003, 053972300...</td>\n      <td>[724.0, 724.0, 724.0, 724.0, 724.0, 724.0, 651...</td>\n      <td>[0751471001]</td>\n      <td>[9.0]</td>\n      <td>{0573085052, 0706016001, 0751471001, 088194200...</td>\n    </tr>\n    <tr>\n      <th>42</th>\n      <td>0118e971ce5e96a2563849fead200a12d01d953c53e688...</td>\n      <td>[0612133002, 0399256002, 0679514001, 057668900...</td>\n      <td>[732.0, 732.0, 732.0, 732.0, 732.0, 732.0, 732...</td>\n      <td>[0896152002, 0751471001, 0751471001]</td>\n      <td>[27.0, 27.0, 27.0]</td>\n      <td>{0893420001, 0673677002, 0884319001, 057847600...</td>\n    </tr>\n    <tr>\n      <th>43</th>\n      <td>011a56e492e84d2d35a69c4f649a96b55d104d95610ab9...</td>\n      <td>[0647434001, 0661646001, 0611815001, 064905700...</td>\n      <td>[713.0, 713.0, 684.0, 684.0, 684.0, 682.0, 682...</td>\n      <td>[0915529003]</td>\n      <td>[28.0]</td>\n      <td>{0879088001, 0915529003, 0915529001, 087315800...</td>\n    </tr>\n    <tr>\n      <th>44</th>\n      <td>011d5eee07efdbc276c47c454389893d8190d3327f813a...</td>\n      <td>[0701946001, 0739144002, 0736218002, 076822900...</td>\n      <td>[668.0, 488.0, 488.0, 389.0, 389.0, 237.0, 237...</td>\n      <td>[0751471001, 0751471001]</td>\n      <td>[19.0, 19.0]</td>\n      <td>{0800691008, 0903910001, 0751471001, 088343500...</td>\n    </tr>\n    <tr>\n      <th>45</th>\n      <td>012e55b1b6ee2b942b5f2726c3239f92542b048aebb324...</td>\n      <td>[0844409002, 0902505001, 0832997004, 0808666002]</td>\n      <td>[71.0, 71.0, 71.0, 71.0]</td>\n      <td>[0915529003]</td>\n      <td>[9.0]</td>\n      <td>{0910933001, 0915529003, 0891591007, 086794800...</td>\n    </tr>\n    <tr>\n      <th>46</th>\n      <td>01355697d5818432e4232d987896e15e8fc51d9c98092e...</td>\n      <td>[0572400022, 0548467001, 0662948005, 070717900...</td>\n      <td>[702.0, 702.0, 702.0, 647.0, 533.0, 532.0, 460...</td>\n      <td>[0685814001]</td>\n      <td>[3.0]</td>\n      <td>{0865929003, 0685814001, 0924243001, 0924243002}</td>\n    </tr>\n    <tr>\n      <th>47</th>\n      <td>013a46ecf612769560aeb04a24f258db6133d22db294bb...</td>\n      <td>[0657512001, 0633130008, 0667499004, 072816200...</td>\n      <td>[724.0, 724.0, 717.0, 717.0, 674.0, 674.0, 633...</td>\n      <td>[0751471001]</td>\n      <td>[10.0]</td>\n      <td>{0751471001, 0760084003}</td>\n    </tr>\n    <tr>\n      <th>48</th>\n      <td>0141c92149176273ec7f11748d37ff10a1f4c148078688...</td>\n      <td>[0507564001, 0739144006, 0702802002, 074094300...</td>\n      <td>[454.0, 454.0, 454.0, 454.0, 454.0, 454.0, 354...</td>\n      <td>[0896152002, 0751471001]</td>\n      <td>[6.0, 6.0]</td>\n      <td>{0751471001, 0896152002}</td>\n    </tr>\n    <tr>\n      <th>49</th>\n      <td>01439cbbc15844086c0a29f5be963f71464280f68fdbcd...</td>\n      <td>[0666448009, 0629042002, 0774151002, 0774151002]</td>\n      <td>[665.0, 665.0, 325.0, 311.0]</td>\n      <td>[0915529003]</td>\n      <td>[12.0]</td>\n      <td>{0915529003, 0935689001}</td>\n    </tr>\n  </tbody>\n</table>\n</div>"
     },
     "execution_count": 96,
     "metadata": {},
     "output_type": "execute_result"
    }
   ],
   "source": [
    "column_merge = pd.merge(x_vals, y_vals, on='customer_id', how='inner')\n",
    "print(column_merge.shape)\n",
    "column_merge.head(50)"
   ]
  },
  {
   "cell_type": "code",
   "execution_count": 97,
   "outputs": [],
   "source": [
    "column_merge.drop(\"unique_article_id\", inplace=True, axis=1)"
   ],
   "metadata": {
    "collapsed": false,
    "pycharm": {
     "name": "#%%\n"
    }
   }
  },
  {
   "cell_type": "code",
   "execution_count": 98,
   "outputs": [
    {
     "data": {
      "text/plain": "                                            customer_id  \\\n0     000172a9c322560c849754ffbdfdb2180d408aa7176b94...   \n1     00077dbd5c4a4991e092e63893ccf29294a9d5c46e8501...   \n2     0016640d72ad1bcfe8dc30d8be1da4426d172fc2d88189...   \n3     001c45896cbadc098dd6b526ec66c81b2b18bfed057ba0...   \n4     00250644a9628fb8c4aebabf555d3caabe44c99c74fbcf...   \n...                                                 ...   \n7357  ffbbfc905e3bdd3ea7e0a8a75ab7e3a4f46071452c5e21...   \n7358  ffbe3e5c5e3ef4484c2f193ea279ee9b2c994644781fe8...   \n7359  ffd06cb94f22fa87ee21e9ad894127af2e67884e5c5f2b...   \n7360  ffd4ac08989849fbe3d2889a0b0ee5ed16b0db6aa9bad5...   \n7361  fff71b3986a9bc72e5f388d0e0c2390c96bb78023856d5...   \n\n                                           article_id_x  \\\n0     [0670942008, 0380609037, 0554811021, 070573200...   \n1     [0676387001, 0685687003, 0662980003, 052995300...   \n2     [0675657001, 0624632001, 0664338002, 056747500...   \n3     [0678983002, 0228257001, 0436261001, 022825700...   \n4     [0700329005, 0599502013, 0711193004, 070573400...   \n...                                                 ...   \n7357  [0677511001, 0639677001, 0677506003, 071261600...   \n7358  [0626263006, 0578382003, 0624066007, 064527500...   \n7359  [0639576002, 0764618001, 0707488007, 079919000...   \n7360  [0625311006, 0182909001, 0179208001, 073609000...   \n7361  [0574109021, 0574109022, 0781660001, 068855801...   \n\n                               days_since_transaction_x  \\\n0     [458.0, 458.0, 458.0, 458.0, 458.0, 458.0, 458...   \n1     [729.0, 729.0, 692.0, 692.0, 598.0, 598.0, 592...   \n2     [729.0, 718.0, 705.0, 705.0, 705.0, 697.0, 697...   \n3     [719.0, 719.0, 641.0, 641.0, 641.0, 418.0, 418...   \n4     [542.0, 542.0, 542.0, 542.0, 542.0, 542.0, 516...   \n...                                                 ...   \n7357  [682.0, 682.0, 682.0, 638.0, 625.0, 625.0, 620...   \n7358  [726.0, 726.0, 726.0, 726.0, 726.0, 726.0, 726...   \n7359  [633.0, 451.0, 451.0, 318.0, 315.0, 171.0, 171.0]   \n7360  [632.0, 632.0, 632.0, 546.0, 546.0, 546.0, 546...   \n7361  [383.0, 383.0, 383.0, 383.0, 349.0, 349.0, 349...   \n\n                              article_id_y days_since_transaction_y  \n0     [0685814001, 0685814001, 0685814001]       [18.0, 18.0, 18.0]  \n1                             [0915529003]                    [1.0]  \n2                             [0896152002]                   [21.0]  \n3                             [0915529003]                   [13.0]  \n4                             [0751471001]                   [27.0]  \n...                                    ...                      ...  \n7357                          [0915529003]                   [17.0]  \n7358                          [0751471001]                   [20.0]  \n7359                          [0685814001]                   [11.0]  \n7360                          [0866731001]                   [24.0]  \n7361              [0896152002, 0896152002]              [11.0, 8.0]  \n\n[7362 rows x 5 columns]",
      "text/html": "<div>\n<style scoped>\n    .dataframe tbody tr th:only-of-type {\n        vertical-align: middle;\n    }\n\n    .dataframe tbody tr th {\n        vertical-align: top;\n    }\n\n    .dataframe thead th {\n        text-align: right;\n    }\n</style>\n<table border=\"1\" class=\"dataframe\">\n  <thead>\n    <tr style=\"text-align: right;\">\n      <th></th>\n      <th>customer_id</th>\n      <th>article_id_x</th>\n      <th>days_since_transaction_x</th>\n      <th>article_id_y</th>\n      <th>days_since_transaction_y</th>\n    </tr>\n  </thead>\n  <tbody>\n    <tr>\n      <th>0</th>\n      <td>000172a9c322560c849754ffbdfdb2180d408aa7176b94...</td>\n      <td>[0670942008, 0380609037, 0554811021, 070573200...</td>\n      <td>[458.0, 458.0, 458.0, 458.0, 458.0, 458.0, 458...</td>\n      <td>[0685814001, 0685814001, 0685814001]</td>\n      <td>[18.0, 18.0, 18.0]</td>\n    </tr>\n    <tr>\n      <th>1</th>\n      <td>00077dbd5c4a4991e092e63893ccf29294a9d5c46e8501...</td>\n      <td>[0676387001, 0685687003, 0662980003, 052995300...</td>\n      <td>[729.0, 729.0, 692.0, 692.0, 598.0, 598.0, 592...</td>\n      <td>[0915529003]</td>\n      <td>[1.0]</td>\n    </tr>\n    <tr>\n      <th>2</th>\n      <td>0016640d72ad1bcfe8dc30d8be1da4426d172fc2d88189...</td>\n      <td>[0675657001, 0624632001, 0664338002, 056747500...</td>\n      <td>[729.0, 718.0, 705.0, 705.0, 705.0, 697.0, 697...</td>\n      <td>[0896152002]</td>\n      <td>[21.0]</td>\n    </tr>\n    <tr>\n      <th>3</th>\n      <td>001c45896cbadc098dd6b526ec66c81b2b18bfed057ba0...</td>\n      <td>[0678983002, 0228257001, 0436261001, 022825700...</td>\n      <td>[719.0, 719.0, 641.0, 641.0, 641.0, 418.0, 418...</td>\n      <td>[0915529003]</td>\n      <td>[13.0]</td>\n    </tr>\n    <tr>\n      <th>4</th>\n      <td>00250644a9628fb8c4aebabf555d3caabe44c99c74fbcf...</td>\n      <td>[0700329005, 0599502013, 0711193004, 070573400...</td>\n      <td>[542.0, 542.0, 542.0, 542.0, 542.0, 542.0, 516...</td>\n      <td>[0751471001]</td>\n      <td>[27.0]</td>\n    </tr>\n    <tr>\n      <th>...</th>\n      <td>...</td>\n      <td>...</td>\n      <td>...</td>\n      <td>...</td>\n      <td>...</td>\n    </tr>\n    <tr>\n      <th>7357</th>\n      <td>ffbbfc905e3bdd3ea7e0a8a75ab7e3a4f46071452c5e21...</td>\n      <td>[0677511001, 0639677001, 0677506003, 071261600...</td>\n      <td>[682.0, 682.0, 682.0, 638.0, 625.0, 625.0, 620...</td>\n      <td>[0915529003]</td>\n      <td>[17.0]</td>\n    </tr>\n    <tr>\n      <th>7358</th>\n      <td>ffbe3e5c5e3ef4484c2f193ea279ee9b2c994644781fe8...</td>\n      <td>[0626263006, 0578382003, 0624066007, 064527500...</td>\n      <td>[726.0, 726.0, 726.0, 726.0, 726.0, 726.0, 726...</td>\n      <td>[0751471001]</td>\n      <td>[20.0]</td>\n    </tr>\n    <tr>\n      <th>7359</th>\n      <td>ffd06cb94f22fa87ee21e9ad894127af2e67884e5c5f2b...</td>\n      <td>[0639576002, 0764618001, 0707488007, 079919000...</td>\n      <td>[633.0, 451.0, 451.0, 318.0, 315.0, 171.0, 171.0]</td>\n      <td>[0685814001]</td>\n      <td>[11.0]</td>\n    </tr>\n    <tr>\n      <th>7360</th>\n      <td>ffd4ac08989849fbe3d2889a0b0ee5ed16b0db6aa9bad5...</td>\n      <td>[0625311006, 0182909001, 0179208001, 073609000...</td>\n      <td>[632.0, 632.0, 632.0, 546.0, 546.0, 546.0, 546...</td>\n      <td>[0866731001]</td>\n      <td>[24.0]</td>\n    </tr>\n    <tr>\n      <th>7361</th>\n      <td>fff71b3986a9bc72e5f388d0e0c2390c96bb78023856d5...</td>\n      <td>[0574109021, 0574109022, 0781660001, 068855801...</td>\n      <td>[383.0, 383.0, 383.0, 383.0, 349.0, 349.0, 349...</td>\n      <td>[0896152002, 0896152002]</td>\n      <td>[11.0, 8.0]</td>\n    </tr>\n  </tbody>\n</table>\n<p>7362 rows × 5 columns</p>\n</div>"
     },
     "execution_count": 98,
     "metadata": {},
     "output_type": "execute_result"
    }
   ],
   "source": [
    "column_merge"
   ],
   "metadata": {
    "collapsed": false,
    "pycharm": {
     "name": "#%%\n"
    }
   }
  },
  {
   "cell_type": "code",
   "execution_count": 101,
   "metadata": {
    "pycharm": {
     "name": "#%%\n"
    }
   },
   "outputs": [],
   "source": [
    "#y_vals.to_csv(SAVE_LOCATION + \"_narrowed_Y.csv\")\n",
    "#x_vals.to_csv(SAVE_LOCATION + '_narrowed_X.csv')\n",
    "column_merge.to_csv(SAVE_LOCATION + f'_narrowed_Xy_{Y_VALUE_PERIOD_DAYS}days_{TOP_N if TOP_N != 0 else f\"{len(most_common_y_items)}(custom)\"}items.csv')\n",
    "most_common_y_items.to_csv(SAVE_LOCATION + f'_narrowed_topN_{Y_VALUE_PERIOD_DAYS}days_{TOP_N if TOP_N != 0 else f\"{len(most_common_y_items)}(custom)\"}items.csv')"
   ]
  }
 ],
 "metadata": {
  "kernelspec": {
   "display_name": "Python 3.8.13 ('PyTorch')",
   "language": "python",
   "name": "python3"
  },
  "language_info": {
   "codemirror_mode": {
    "name": "ipython",
    "version": 3
   },
   "file_extension": ".py",
   "mimetype": "text/x-python",
   "name": "python",
   "nbconvert_exporter": "python",
   "pygments_lexer": "ipython3",
   "version": "3.8.13"
  },
  "orig_nbformat": 4,
  "vscode": {
   "interpreter": {
    "hash": "3781f7017ca0b9de91b3fa2496fb023ed6cbd54c6077891b434d73e407680117"
   }
  }
 },
 "nbformat": 4,
 "nbformat_minor": 2
}