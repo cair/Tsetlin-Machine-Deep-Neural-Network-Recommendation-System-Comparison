{
 "cells": [
  {
   "cell_type": "code",
   "execution_count": 2,
   "outputs": [],
   "source": [
    "import numpy\n",
    "import numpy as np\n",
    "import pandas as pd\n",
    "import os\n",
    "\n",
    "FOLDER_NAME = \"HnM\"\n",
    "FILE_NAME_TRANSACTIONS = \"transactions_train.csv\"\n",
    "FILE_NAME_ARTICLES = \"articles.csv\"\n",
    "SAVE_FOLDER = 'Narrowed_HnM'\n",
    "SAVE_LOCATION = f'{FOLDER_NAME}/{SAVE_FOLDER}/{FILE_NAME_TRANSACTIONS.split(\".\")[0]}'\n",
    "if not os.path.isdir(f\"{FOLDER_NAME}/{SAVE_FOLDER}\"):\n",
    "    os.mkdir(f'{FOLDER_NAME}/{SAVE_FOLDER}')\n",
    "TOP_N = 0 # Positive Integer for top n items, 0 for hand-picked values\n",
    "Y_VALUE_PERIOD_DAYS = 30"
   ],
   "metadata": {
    "collapsed": false,
    "pycharm": {
     "name": "#%%\n"
    }
   }
  },
  {
   "cell_type": "code",
   "execution_count": 3,
   "outputs": [],
   "source": [
    "transactions_df = pd.read_csv(f\"{FOLDER_NAME}/{FILE_NAME_TRANSACTIONS}\", dtype={\"article_id\": \"str\"})\n",
    "articles_df = pd.read_csv(f\"{FOLDER_NAME}/{FILE_NAME_ARTICLES}\", dtype={\"article_id\": \"str\"})"
   ],
   "metadata": {
    "collapsed": false,
    "pycharm": {
     "name": "#%%\n"
    }
   }
  },
  {
   "cell_type": "code",
   "execution_count": 4,
   "outputs": [
    {
     "data": {
      "text/plain": "               t_dat                                        customer_id  \\\n0         2018-09-20  000058a12d5b43e67d225668fa1f8d618c13dc232df0ca...   \n1         2018-09-20  000058a12d5b43e67d225668fa1f8d618c13dc232df0ca...   \n2         2018-09-20  00007d2de826758b65a93dd24ce629ed66842531df6699...   \n3         2018-09-20  00007d2de826758b65a93dd24ce629ed66842531df6699...   \n4         2018-09-20  00007d2de826758b65a93dd24ce629ed66842531df6699...   \n...              ...                                                ...   \n31788319  2020-09-22  fff2282977442e327b45d8c89afde25617d00124d0f999...   \n31788320  2020-09-22  fff2282977442e327b45d8c89afde25617d00124d0f999...   \n31788321  2020-09-22  fff380805474b287b05cb2a7507b9a013482f7dd0bce0e...   \n31788322  2020-09-22  fff4d3a8b1f3b60af93e78c30a7cb4cf75edaf2590d3e5...   \n31788323  2020-09-22  fffef3b6b73545df065b521e19f64bf6fe93bfd450ab20...   \n\n          article_id     price  sales_channel_id  \n0         0663713001  0.050831                 2  \n1         0541518023  0.030492                 2  \n2         0505221004  0.015237                 2  \n3         0685687003  0.016932                 2  \n4         0685687004  0.016932                 2  \n...              ...       ...               ...  \n31788319  0929511001  0.059305                 2  \n31788320  0891322004  0.042356                 2  \n31788321  0918325001  0.043203                 1  \n31788322  0833459002  0.006763                 1  \n31788323  0898573003  0.033881                 2  \n\n[31788324 rows x 5 columns]",
      "text/html": "<div>\n<style scoped>\n    .dataframe tbody tr th:only-of-type {\n        vertical-align: middle;\n    }\n\n    .dataframe tbody tr th {\n        vertical-align: top;\n    }\n\n    .dataframe thead th {\n        text-align: right;\n    }\n</style>\n<table border=\"1\" class=\"dataframe\">\n  <thead>\n    <tr style=\"text-align: right;\">\n      <th></th>\n      <th>t_dat</th>\n      <th>customer_id</th>\n      <th>article_id</th>\n      <th>price</th>\n      <th>sales_channel_id</th>\n    </tr>\n  </thead>\n  <tbody>\n    <tr>\n      <th>0</th>\n      <td>2018-09-20</td>\n      <td>000058a12d5b43e67d225668fa1f8d618c13dc232df0ca...</td>\n      <td>0663713001</td>\n      <td>0.050831</td>\n      <td>2</td>\n    </tr>\n    <tr>\n      <th>1</th>\n      <td>2018-09-20</td>\n      <td>000058a12d5b43e67d225668fa1f8d618c13dc232df0ca...</td>\n      <td>0541518023</td>\n      <td>0.030492</td>\n      <td>2</td>\n    </tr>\n    <tr>\n      <th>2</th>\n      <td>2018-09-20</td>\n      <td>00007d2de826758b65a93dd24ce629ed66842531df6699...</td>\n      <td>0505221004</td>\n      <td>0.015237</td>\n      <td>2</td>\n    </tr>\n    <tr>\n      <th>3</th>\n      <td>2018-09-20</td>\n      <td>00007d2de826758b65a93dd24ce629ed66842531df6699...</td>\n      <td>0685687003</td>\n      <td>0.016932</td>\n      <td>2</td>\n    </tr>\n    <tr>\n      <th>4</th>\n      <td>2018-09-20</td>\n      <td>00007d2de826758b65a93dd24ce629ed66842531df6699...</td>\n      <td>0685687004</td>\n      <td>0.016932</td>\n      <td>2</td>\n    </tr>\n    <tr>\n      <th>...</th>\n      <td>...</td>\n      <td>...</td>\n      <td>...</td>\n      <td>...</td>\n      <td>...</td>\n    </tr>\n    <tr>\n      <th>31788319</th>\n      <td>2020-09-22</td>\n      <td>fff2282977442e327b45d8c89afde25617d00124d0f999...</td>\n      <td>0929511001</td>\n      <td>0.059305</td>\n      <td>2</td>\n    </tr>\n    <tr>\n      <th>31788320</th>\n      <td>2020-09-22</td>\n      <td>fff2282977442e327b45d8c89afde25617d00124d0f999...</td>\n      <td>0891322004</td>\n      <td>0.042356</td>\n      <td>2</td>\n    </tr>\n    <tr>\n      <th>31788321</th>\n      <td>2020-09-22</td>\n      <td>fff380805474b287b05cb2a7507b9a013482f7dd0bce0e...</td>\n      <td>0918325001</td>\n      <td>0.043203</td>\n      <td>1</td>\n    </tr>\n    <tr>\n      <th>31788322</th>\n      <td>2020-09-22</td>\n      <td>fff4d3a8b1f3b60af93e78c30a7cb4cf75edaf2590d3e5...</td>\n      <td>0833459002</td>\n      <td>0.006763</td>\n      <td>1</td>\n    </tr>\n    <tr>\n      <th>31788323</th>\n      <td>2020-09-22</td>\n      <td>fffef3b6b73545df065b521e19f64bf6fe93bfd450ab20...</td>\n      <td>0898573003</td>\n      <td>0.033881</td>\n      <td>2</td>\n    </tr>\n  </tbody>\n</table>\n<p>31788324 rows × 5 columns</p>\n</div>"
     },
     "execution_count": 4,
     "metadata": {},
     "output_type": "execute_result"
    }
   ],
   "source": [
    "transactions_df"
   ],
   "metadata": {
    "collapsed": false,
    "pycharm": {
     "name": "#%%\n"
    }
   }
  },
  {
   "cell_type": "code",
   "execution_count": null,
   "outputs": [
    {
     "name": "stdout",
     "output_type": "stream",
     "text": [
      "(31788324, 5) (30632391, 6) (1155933, 6)\n"
     ]
    }
   ],
   "source": [
    "import time\n",
    "import datetime\n",
    "\n",
    "def create_apk_evaluation_subset(transactions, days):\n",
    "    transactions_x_values = transactions_df.copy()\n",
    "    transactions_x_values[\"timestamp\"] = transactions[\"t_dat\"].apply(lambda x: time.mktime(datetime.datetime.strptime(x, \"%Y-%m-%d\").timetuple()))\n",
    "    now_timestamp = transactions_x_values[\"timestamp\"].max()\n",
    "    transactions_y_values = transactions_x_values[transactions_x_values[\"timestamp\"] >= (now_timestamp - 60*60*24*days)]\n",
    "    transactions_x_values = transactions_x_values[transactions_x_values[\"timestamp\"] < (now_timestamp - 60*60*24*days)]\n",
    "    print(transactions.shape, transactions_x_values.shape, transactions_y_values.shape)\n",
    "\n",
    "    transactions_x_values[\"timestamp\"] = transactions_x_values[\"timestamp\"].apply(lambda x: (now_timestamp - x) // (60*60*24))\n",
    "    transactions_x_articles = transactions_x_values.groupby(\"customer_id\")[\"article_id\"].apply(list).reset_index()\n",
    "    transactions_x_timestamps = transactions_x_values.groupby(\"customer_id\")[\"timestamp\"].apply(list).reset_index()\n",
    "    transactions_x_values = pd.merge(transactions_x_articles, transactions_x_timestamps, how=\"inner\", on=\"customer_id\")\n",
    "\n",
    "    transactions_y_values[\"timestamp\"] = transactions_y_values[\"timestamp\"].apply(lambda x: (now_timestamp - x) // (60*60*24))\n",
    "    transactions_y_articles = transactions_y_values.groupby(\"customer_id\")[\"article_id\"].apply(list).reset_index()\n",
    "    transactions_y_timestamps = transactions_y_values.groupby(\"customer_id\")[\"timestamp\"].apply(list).reset_index()\n",
    "    transactions_y_values = pd.merge(transactions_y_articles, transactions_y_timestamps, how=\"inner\", on=\"customer_id\")\n",
    "\n",
    "    transactions_processed = pd.merge(transactions_x_values, transactions_y_values, how=\"outer\", on=\"customer_id\")\n",
    "    print(transactions_processed.shape, transactions_x_values.shape, transactions_y_values.shape)\n",
    "    # transactions[\"timestamp\"] = transactions[\"t_dat\"].apply(lambda x: time.mktime(datetime.datetime.strptime(x, \"%Y-%m-%d\").timetuple()))\n",
    "    # now_timestamp = transactions[\"timestamp\"].max()\n",
    "    # transactions[\"days_since_transaction\"] = transactions[\"timestamp\"].apply(lambda x: (now_timestamp - x) // (60*60*24))\n",
    "    # transactions_subset = transactions[transactions[\"timestamp\"] > (transactions[\"timestamp\"].max() - 60*60*24*days)]\n",
    "    # #transactions_y_values = transactions_subset.groupby(\"customer_id\")[\"article_id\"].aggregate(lambda x: \" \".join(x)).reset_index()\n",
    "    # transactions_y_values = transactions_subset.groupby(\"customer_id\")[\"article_id\"].apply(list).aggregate(lambda x: x).reset_index()\n",
    "    # transactions_y_timestamp = transactions_subset.groupby(\"customer_id\")[\"days_since_transaction\"].apply(list).aggregate(lambda x: x).reset_index()\n",
    "    # transactions_y_values = pd.merge(transactions_y_values, transactions_y_timestamp, how=\"inner\", on=\"customer_id\")\n",
    "    #\n",
    "    # transactions_subset_train = transactions[transactions[\"timestamp\"] < (transactions[\"timestamp\"].max() - 60*60*24*days)]\n",
    "    # transactions_x_values = transactions_subset_train.groupby(\"customer_id\")[\"article_id\"].apply(list).aggregate(lambda x: x).reset_index()\n",
    "    # transactions_x_timestamps = transactions_subset_train.groupby(\"customer_id\")[\"days_since_transaction\"].apply(list).aggregate(lambda x: x).reset_index()\n",
    "    # transactions_x_values = pd.merge(transactions_x_values, transactions_x_timestamps, how=\"inner\", on=\"customer_id\")\n",
    "    transactions_processed.dropna(inplace=True)\n",
    "    return transactions_processed\n",
    "\n",
    "trans_df = create_apk_evaluation_subset(transactions_df.copy(), Y_VALUE_PERIOD_DAYS)\n",
    "trans_df"
   ],
   "metadata": {
    "collapsed": false,
    "pycharm": {
     "name": "#%%\n",
     "is_executing": true
    }
   }
  },
  {
   "cell_type": "code",
   "execution_count": null,
   "outputs": [],
   "source": [
    "def detect_transaction_length_mismatch(input_df):\n",
    "    df_copy = input_df.copy()\n",
    "    df_copy[\"lens_article_id_x\"] = df_copy[\"article_id_x\"].apply(len)\n",
    "    df_copy[\"lens_timestamp_x\"] = df_copy[\"timestamp_x\"].apply(len)\n",
    "    df_copy[\"len_diff_x\"] = df_copy[\"lens_article_id_x\"] - df_copy[\"lens_timestamp_x\"]\n",
    "    diff_array_x = df_copy[\"len_diff_x\"].to_numpy().nonzero()\n",
    "\n",
    "    df_copy[\"lens_article_id_y\"] = df_copy[\"article_id_y\"].apply(len)\n",
    "    df_copy[\"lens_timestamp_y\"] = df_copy[\"timestamp_y\"].apply(len)\n",
    "    df_copy[\"len_diff_y\"] = df_copy[\"lens_article_id_y\"] - df_copy[\"lens_timestamp_y\"]\n",
    "    diff_array_y = df_copy[\"len_diff_y\"].to_numpy().nonzero()\n",
    "\n",
    "    return df_copy, diff_array_x, diff_array_y\n",
    "\n",
    "diff_df, diff_x, diff_y = detect_transaction_length_mismatch(trans_df)\n",
    "print(diff_x, diff_y)\n",
    "diff_df.head()"
   ],
   "metadata": {
    "collapsed": false,
    "pycharm": {
     "name": "#%%\n",
     "is_executing": true
    }
   }
  },
  {
   "cell_type": "code",
   "execution_count": null,
   "outputs": [],
   "source": [
    "articles_df[\"product_type_name\"].value_counts()"
   ],
   "metadata": {
    "collapsed": false,
    "pycharm": {
     "name": "#%%\n",
     "is_executing": true
    }
   }
  },
  {
   "cell_type": "code",
   "execution_count": null,
   "outputs": [],
   "source": [
    "articles_df[\"product_group_name\"].value_counts()"
   ],
   "metadata": {
    "collapsed": false,
    "pycharm": {
     "name": "#%%\n",
     "is_executing": true
    }
   }
  },
  {
   "cell_type": "code",
   "execution_count": null,
   "outputs": [],
   "source": [
    "articles_df[\"colour_group_name\"].value_counts()"
   ],
   "metadata": {
    "collapsed": false,
    "pycharm": {
     "name": "#%%\n",
     "is_executing": true
    }
   }
  },
  {
   "cell_type": "code",
   "execution_count": null,
   "outputs": [],
   "source": [
    "article = \"0673901001\"\n",
    "articles_df.head()"
   ],
   "metadata": {
    "collapsed": false,
    "pycharm": {
     "name": "#%%\n",
     "is_executing": true
    }
   }
  },
  {
   "cell_type": "code",
   "execution_count": null,
   "outputs": [],
   "source": [
    "articles_df.head()"
   ],
   "metadata": {
    "collapsed": false,
    "pycharm": {
     "name": "#%%\n",
     "is_executing": true
    }
   }
  },
  {
   "cell_type": "code",
   "execution_count": null,
   "outputs": [],
   "source": [
    "articles_df_copy = articles_df.copy()\n",
    "articles_df_copy.set_index(\"article_id\", inplace=True)\n",
    "articles_df_copy.head()"
   ],
   "metadata": {
    "collapsed": false,
    "pycharm": {
     "name": "#%%\n",
     "is_executing": true
    }
   }
  },
  {
   "cell_type": "code",
   "execution_count": null,
   "outputs": [],
   "source": [
    "articles_cat_dict = articles_df_copy.to_dict(orient=\"index\")"
   ],
   "metadata": {
    "collapsed": false,
    "pycharm": {
     "name": "#%%\n",
     "is_executing": true
    }
   }
  },
  {
   "cell_type": "code",
   "execution_count": null,
   "outputs": [],
   "source": [
    "articles_cat_dict"
   ],
   "metadata": {
    "collapsed": false,
    "pycharm": {
     "name": "#%%\n",
     "is_executing": true
    }
   }
  },
  {
   "cell_type": "code",
   "execution_count": null,
   "outputs": [],
   "source": [
    "#Iterate through all y values and find their matching category.\n",
    "trans_df[\"y_product_type_name\"] = trans_df[\"article_id_y\"].apply(lambda row : [articles_cat_dict[y_val][\"product_type_name\"] for y_val in row])\n",
    "trans_df[\"y_product_group_name\"] = trans_df[\"article_id_y\"].apply(lambda row : [articles_cat_dict[y_val][\"product_group_name\"] for y_val in row])\n",
    "trans_df[\"y_colour_group_name\"] = trans_df[\"article_id_y\"].apply(lambda row : [articles_cat_dict[y_val][\"colour_group_name\"] for y_val in row])\n",
    "trans_df[\"y_department_name\"] = trans_df[\"article_id_y\"].apply(lambda row : [articles_cat_dict[y_val][\"department_name\"] for y_val in row])\n",
    "trans_df.head()"
   ],
   "metadata": {
    "collapsed": false,
    "pycharm": {
     "name": "#%%\n",
     "is_executing": true
    }
   }
  },
  {
   "cell_type": "code",
   "execution_count": null,
   "outputs": [],
   "source": [
    "trans_df[\"article_id_x\"].apply(len).value_counts().sort_index()"
   ],
   "metadata": {
    "collapsed": false,
    "pycharm": {
     "name": "#%%\n",
     "is_executing": true
    }
   }
  },
  {
   "cell_type": "code",
   "execution_count": null,
   "outputs": [],
   "source": [
    "trans_df.head()"
   ],
   "metadata": {
    "collapsed": false,
    "pycharm": {
     "name": "#%%\n",
     "is_executing": true
    }
   }
  },
  {
   "cell_type": "code",
   "execution_count": null,
   "outputs": [],
   "source": [
    "x_value_count_series = trans_df[\"article_id_x\"].explode().value_counts()\n",
    "print(x_value_count_series.shape)\n",
    "x_value_count_series"
   ],
   "metadata": {
    "collapsed": false,
    "pycharm": {
     "name": "#%%\n",
     "is_executing": true
    }
   }
  },
  {
   "cell_type": "code",
   "execution_count": 1,
   "outputs": [
    {
     "ename": "NameError",
     "evalue": "name 'trans_df' is not defined",
     "output_type": "error",
     "traceback": [
      "\u001B[1;31m---------------------------------------------------------------------------\u001B[0m",
      "\u001B[1;31mNameError\u001B[0m                                 Traceback (most recent call last)",
      "Input \u001B[1;32mIn [1]\u001B[0m, in \u001B[0;36m<cell line: 1>\u001B[1;34m()\u001B[0m\n\u001B[1;32m----> 1\u001B[0m y_value_count_series \u001B[38;5;241m=\u001B[39m \u001B[43mtrans_df\u001B[49m[\u001B[38;5;124m\"\u001B[39m\u001B[38;5;124my_product_group_name\u001B[39m\u001B[38;5;124m\"\u001B[39m]\u001B[38;5;241m.\u001B[39mexplode()\u001B[38;5;241m.\u001B[39mvalue_counts()\n\u001B[0;32m      2\u001B[0m \u001B[38;5;28mprint\u001B[39m(y_value_count_series\u001B[38;5;241m.\u001B[39mshape)\n\u001B[0;32m      3\u001B[0m \u001B[38;5;28mprint\u001B[39m(y_value_count_series\u001B[38;5;241m.\u001B[39mmax() \u001B[38;5;241m/\u001B[39m y_value_count_series\u001B[38;5;241m.\u001B[39msum())\n",
      "\u001B[1;31mNameError\u001B[0m: name 'trans_df' is not defined"
     ]
    }
   ],
   "source": [
    "y_value_count_series = trans_df[\"y_product_group_name\"].explode().value_counts()\n",
    "print(y_value_count_series.shape)\n",
    "print(y_value_count_series.max() / y_value_count_series.sum())\n",
    "y_value_count_series"
   ],
   "metadata": {
    "collapsed": false,
    "pycharm": {
     "name": "#%%\n"
    }
   }
  },
  {
   "cell_type": "code",
   "execution_count": null,
   "outputs": [],
   "source": [
    "trans_df[\"article_id_y\"].explode()"
   ],
   "metadata": {
    "collapsed": false,
    "pycharm": {
     "name": "#%%\n",
     "is_executing": true
    }
   }
  },
  {
   "cell_type": "code",
   "execution_count": null,
   "outputs": [],
   "source": [
    "trans_df[\"article_id_x\"].explode()"
   ],
   "metadata": {
    "collapsed": false,
    "pycharm": {
     "name": "#%%\n",
     "is_executing": true
    }
   }
  },
  {
   "cell_type": "code",
   "execution_count": 33,
   "outputs": [],
   "source": [
    "trans_df.to_csv(SAVE_LOCATION + f'_HnM_Xy_{Y_VALUE_PERIOD_DAYS}days_category_prediction.csv')"
   ],
   "metadata": {
    "collapsed": false,
    "pycharm": {
     "name": "#%%\n"
    }
   }
  }
 ],
 "metadata": {
  "kernelspec": {
   "display_name": "Python 3.8.13 ('PyTorch')",
   "language": "python",
   "name": "python3"
  },
  "language_info": {
   "codemirror_mode": {
    "name": "ipython",
    "version": 3
   },
   "file_extension": ".py",
   "mimetype": "text/x-python",
   "name": "python",
   "nbconvert_exporter": "python",
   "pygments_lexer": "ipython3",
   "version": "3.8.13"
  },
  "orig_nbformat": 4,
  "vscode": {
   "interpreter": {
    "hash": "3781f7017ca0b9de91b3fa2496fb023ed6cbd54c6077891b434d73e407680117"
   }
  }
 },
 "nbformat": 4,
 "nbformat_minor": 2
}